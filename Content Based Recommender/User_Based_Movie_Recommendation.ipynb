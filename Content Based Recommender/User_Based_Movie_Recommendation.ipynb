{
  "nbformat": 4,
  "nbformat_minor": 0,
  "metadata": {
    "colab": {
      "provenance": []
    },
    "kernelspec": {
      "name": "python3",
      "display_name": "Python 3"
    },
    "language_info": {
      "name": "python"
    }
  },
  "cells": [
    {
      "cell_type": "code",
      "execution_count": null,
      "metadata": {
        "id": "Q_c3AW21lrlO"
      },
      "outputs": [],
      "source": [
        "import pandas as pd\n",
        "import numpy as np\n",
        "import matplotlib.pyplot as plt\n",
        "import math\n",
        "import string\n",
        "import nltk\n",
        "from nltk.stem.snowball import SnowballStemmer\n",
        "from ast import literal_eval\n",
        "from sklearn.feature_extraction.text import CountVectorizer\n",
        "from sklearn.feature_extraction.text import TfidfVectorizer\n",
        "from sklearn.preprocessing import StandardScaler\n",
        "from sklearn.preprocessing import QuantileTransformer\n",
        "from sklearn.metrics.pairwise import cosine_similarity\n",
        "from sklearn.model_selection import train_test_split\n",
        "pd.set_option('display.max.columns', None)"
      ]
    },
    {
      "cell_type": "code",
      "source": [
        "metadata = pd.read_csv('/content/drive/MyDrive/Dataset/data/movies_metadata_small.csv')\n",
        "keywords = pd.read_csv('/content/drive/MyDrive/Dataset/data/keywords_small.csv')\n",
        "credits = pd.read_csv('/content/drive/MyDrive/Dataset/data/credits_small.csv')\n",
        "links = pd.read_csv('/content/drive/MyDrive/Dataset/data/links_small.csv')\n",
        "ratings = pd.read_csv('/content/drive/MyDrive/Dataset/data/ratings_small.csv')"
      ],
      "metadata": {
        "id": "L-mUTEeylxph"
      },
      "execution_count": null,
      "outputs": []
    },
    {
      "cell_type": "code",
      "source": [
        "metadata.isnull().sum()"
      ],
      "metadata": {
        "colab": {
          "base_uri": "https://localhost:8080/"
        },
        "id": "sQ7UFFbYhk-h",
        "outputId": "7d253175-44e2-4284-8d41-63ee6a93f57a"
      },
      "execution_count": null,
      "outputs": [
        {
          "output_type": "execute_result",
          "data": {
            "text/plain": [
              "genres             0\n",
              "id                 0\n",
              "overview           0\n",
              "popularity         0\n",
              "release_date       0\n",
              "tagline         2139\n",
              "title              0\n",
              "vote_average       0\n",
              "dtype: int64"
            ]
          },
          "metadata": {},
          "execution_count": 5
        }
      ]
    },
    {
      "cell_type": "code",
      "source": [
        "metadata.fillna(\"\",inplace=True)\n",
        "metadata.shape"
      ],
      "metadata": {
        "id": "okcAwbeimEG6",
        "colab": {
          "base_uri": "https://localhost:8080/"
        },
        "outputId": "5e29e447-5c8a-401a-ee11-a209356d89c1"
      },
      "execution_count": null,
      "outputs": [
        {
          "output_type": "execute_result",
          "data": {
            "text/plain": [
              "(8833, 8)"
            ]
          },
          "metadata": {},
          "execution_count": 30
        }
      ]
    },
    {
      "cell_type": "code",
      "source": [
        "def get_genres(genres):\n",
        "    return ' '.join([i['name'] for i in genres])\n",
        "def get_cast(cast):\n",
        "    if len(cast)>7:\n",
        "        cast=cast[:7];\n",
        "    return [people['name'].translate(str.maketrans('','', \" -.'\")) for people in cast]\n",
        "def get_director(crew):\n",
        "    for person in crew:\n",
        "        if person['job']=='Director':\n",
        "            return [person['name'].translate(str.maketrans('','', \" -.'\"))]\n",
        "    return []\n",
        "def get_people(x):\n",
        "    people = x['cast'] if x['genres'].find('Animation')==-1 else x['cast'][0:3]\n",
        "    for d in x['director']:\n",
        "        if d not in people:\n",
        "            people.append(d)\n",
        "    return ' '.join(people)\n",
        "def get_keywords(keywords):\n",
        "    return ' '.join([i['name'] for i in keywords])"
      ],
      "metadata": {
        "id": "SU1pZrPRmSBp"
      },
      "execution_count": null,
      "outputs": []
    },
    {
      "cell_type": "code",
      "source": [
        "metadata['genres']= metadata['genres'].apply(literal_eval).apply(get_genres)\n",
        "credits['cast'] = credits['cast'].apply(literal_eval).apply(get_cast)\n",
        "credits['director'] = credits['crew'].apply(literal_eval).apply(get_director)\n",
        "keywords['keywords'] = keywords['keywords'].apply(literal_eval).apply(get_keywords)"
      ],
      "metadata": {
        "id": "dU9BTHYTmVJp"
      },
      "execution_count": null,
      "outputs": []
    },
    {
      "cell_type": "code",
      "source": [
        "info = pd.merge(credits[['id', 'cast', 'director']], keywords, how='inner', on='id')\n",
        "metadata = pd.merge(metadata, info, how='inner', on='id')\n",
        "metadata['keys']=metadata.apply(lambda x : x['title']+\" \"+x['overview']+\" \"+x['tagline']+\" \"+x['keywords'],axis=1)\n",
        "metadata['people'] = metadata.apply(get_people, axis=1)\n",
        "metadata = metadata[['id','title','people','genres','keys','popularity','release_date','vote_average']].copy()\n",
        "metadata.head(2)"
      ],
      "metadata": {
        "colab": {
          "base_uri": "https://localhost:8080/",
          "height": 191
        },
        "id": "nNKdJ6ormW-B",
        "outputId": "ce72e5be-3f57-4657-d115-b66403a09059"
      },
      "execution_count": null,
      "outputs": [
        {
          "output_type": "execute_result",
          "data": {
            "text/plain": [
              "     id      title                                             people  \\\n",
              "0   862  Toy Story          TomHanks TimAllen DonRickles JohnLasseter   \n",
              "1  8844    Jumanji  RobinWilliams JonathanHyde KirstenDunst Bradle...   \n",
              "\n",
              "                     genres  \\\n",
              "0   Animation Comedy Family   \n",
              "1  Adventure Fantasy Family   \n",
              "\n",
              "                                                keys  popularity  \\\n",
              "0  Toy Story Led by Woody, Andy's toys live happi...   21.946943   \n",
              "1  Jumanji When siblings Judy and Peter discover ...   17.015539   \n",
              "\n",
              "   release_date  vote_average  \n",
              "0          1995           7.7  \n",
              "1          1995           6.9  "
            ],
            "text/html": [
              "\n",
              "  <div id=\"df-54f7848d-dd94-4567-8750-7fdc1e0d02fb\">\n",
              "    <div class=\"colab-df-container\">\n",
              "      <div>\n",
              "<style scoped>\n",
              "    .dataframe tbody tr th:only-of-type {\n",
              "        vertical-align: middle;\n",
              "    }\n",
              "\n",
              "    .dataframe tbody tr th {\n",
              "        vertical-align: top;\n",
              "    }\n",
              "\n",
              "    .dataframe thead th {\n",
              "        text-align: right;\n",
              "    }\n",
              "</style>\n",
              "<table border=\"1\" class=\"dataframe\">\n",
              "  <thead>\n",
              "    <tr style=\"text-align: right;\">\n",
              "      <th></th>\n",
              "      <th>id</th>\n",
              "      <th>title</th>\n",
              "      <th>people</th>\n",
              "      <th>genres</th>\n",
              "      <th>keys</th>\n",
              "      <th>popularity</th>\n",
              "      <th>release_date</th>\n",
              "      <th>vote_average</th>\n",
              "    </tr>\n",
              "  </thead>\n",
              "  <tbody>\n",
              "    <tr>\n",
              "      <th>0</th>\n",
              "      <td>862</td>\n",
              "      <td>Toy Story</td>\n",
              "      <td>TomHanks TimAllen DonRickles JohnLasseter</td>\n",
              "      <td>Animation Comedy Family</td>\n",
              "      <td>Toy Story Led by Woody, Andy's toys live happi...</td>\n",
              "      <td>21.946943</td>\n",
              "      <td>1995</td>\n",
              "      <td>7.7</td>\n",
              "    </tr>\n",
              "    <tr>\n",
              "      <th>1</th>\n",
              "      <td>8844</td>\n",
              "      <td>Jumanji</td>\n",
              "      <td>RobinWilliams JonathanHyde KirstenDunst Bradle...</td>\n",
              "      <td>Adventure Fantasy Family</td>\n",
              "      <td>Jumanji When siblings Judy and Peter discover ...</td>\n",
              "      <td>17.015539</td>\n",
              "      <td>1995</td>\n",
              "      <td>6.9</td>\n",
              "    </tr>\n",
              "  </tbody>\n",
              "</table>\n",
              "</div>\n",
              "      <button class=\"colab-df-convert\" onclick=\"convertToInteractive('df-54f7848d-dd94-4567-8750-7fdc1e0d02fb')\"\n",
              "              title=\"Convert this dataframe to an interactive table.\"\n",
              "              style=\"display:none;\">\n",
              "        \n",
              "  <svg xmlns=\"http://www.w3.org/2000/svg\" height=\"24px\"viewBox=\"0 0 24 24\"\n",
              "       width=\"24px\">\n",
              "    <path d=\"M0 0h24v24H0V0z\" fill=\"none\"/>\n",
              "    <path d=\"M18.56 5.44l.94 2.06.94-2.06 2.06-.94-2.06-.94-.94-2.06-.94 2.06-2.06.94zm-11 1L8.5 8.5l.94-2.06 2.06-.94-2.06-.94L8.5 2.5l-.94 2.06-2.06.94zm10 10l.94 2.06.94-2.06 2.06-.94-2.06-.94-.94-2.06-.94 2.06-2.06.94z\"/><path d=\"M17.41 7.96l-1.37-1.37c-.4-.4-.92-.59-1.43-.59-.52 0-1.04.2-1.43.59L10.3 9.45l-7.72 7.72c-.78.78-.78 2.05 0 2.83L4 21.41c.39.39.9.59 1.41.59.51 0 1.02-.2 1.41-.59l7.78-7.78 2.81-2.81c.8-.78.8-2.07 0-2.86zM5.41 20L4 18.59l7.72-7.72 1.47 1.35L5.41 20z\"/>\n",
              "  </svg>\n",
              "      </button>\n",
              "      \n",
              "  <style>\n",
              "    .colab-df-container {\n",
              "      display:flex;\n",
              "      flex-wrap:wrap;\n",
              "      gap: 12px;\n",
              "    }\n",
              "\n",
              "    .colab-df-convert {\n",
              "      background-color: #E8F0FE;\n",
              "      border: none;\n",
              "      border-radius: 50%;\n",
              "      cursor: pointer;\n",
              "      display: none;\n",
              "      fill: #1967D2;\n",
              "      height: 32px;\n",
              "      padding: 0 0 0 0;\n",
              "      width: 32px;\n",
              "    }\n",
              "\n",
              "    .colab-df-convert:hover {\n",
              "      background-color: #E2EBFA;\n",
              "      box-shadow: 0px 1px 2px rgba(60, 64, 67, 0.3), 0px 1px 3px 1px rgba(60, 64, 67, 0.15);\n",
              "      fill: #174EA6;\n",
              "    }\n",
              "\n",
              "    [theme=dark] .colab-df-convert {\n",
              "      background-color: #3B4455;\n",
              "      fill: #D2E3FC;\n",
              "    }\n",
              "\n",
              "    [theme=dark] .colab-df-convert:hover {\n",
              "      background-color: #434B5C;\n",
              "      box-shadow: 0px 1px 3px 1px rgba(0, 0, 0, 0.15);\n",
              "      filter: drop-shadow(0px 1px 2px rgba(0, 0, 0, 0.3));\n",
              "      fill: #FFFFFF;\n",
              "    }\n",
              "  </style>\n",
              "\n",
              "      <script>\n",
              "        const buttonEl =\n",
              "          document.querySelector('#df-54f7848d-dd94-4567-8750-7fdc1e0d02fb button.colab-df-convert');\n",
              "        buttonEl.style.display =\n",
              "          google.colab.kernel.accessAllowed ? 'block' : 'none';\n",
              "\n",
              "        async function convertToInteractive(key) {\n",
              "          const element = document.querySelector('#df-54f7848d-dd94-4567-8750-7fdc1e0d02fb');\n",
              "          const dataTable =\n",
              "            await google.colab.kernel.invokeFunction('convertToInteractive',\n",
              "                                                     [key], {});\n",
              "          if (!dataTable) return;\n",
              "\n",
              "          const docLinkHtml = 'Like what you see? Visit the ' +\n",
              "            '<a target=\"_blank\" href=https://colab.research.google.com/notebooks/data_table.ipynb>data table notebook</a>'\n",
              "            + ' to learn more about interactive tables.';\n",
              "          element.innerHTML = '';\n",
              "          dataTable['output_type'] = 'display_data';\n",
              "          await google.colab.output.renderOutput(dataTable, element);\n",
              "          const docLink = document.createElement('div');\n",
              "          docLink.innerHTML = docLinkHtml;\n",
              "          element.appendChild(docLink);\n",
              "        }\n",
              "      </script>\n",
              "    </div>\n",
              "  </div>\n",
              "  "
            ]
          },
          "metadata": {},
          "execution_count": 40
        }
      ]
    },
    {
      "cell_type": "code",
      "source": [
        "stemmer = SnowballStemmer(language='english')\n",
        "nltk.download('stopwords')\n",
        "stopwords = nltk.corpus.stopwords.words('english')\n",
        "def get_keys(x):\n",
        "    x = x.translate(str.maketrans('', '', string.punctuation))\n",
        "    return ' '.join([stemmer.stem(w) for w in x.split() if stemmer.stem(w) not in stopwords])\n",
        "metadata['keys'] = metadata['keys'].apply(get_keys)"
      ],
      "metadata": {
        "colab": {
          "base_uri": "https://localhost:8080/"
        },
        "id": "ewY4UDQVmmSZ",
        "outputId": "7dbb1230-c3ea-464a-d565-7b82194c4f01"
      },
      "execution_count": null,
      "outputs": [
        {
          "output_type": "stream",
          "name": "stderr",
          "text": [
            "[nltk_data] Downloading package stopwords to /root/nltk_data...\n",
            "[nltk_data]   Unzipping corpora/stopwords.zip.\n"
          ]
        }
      ]
    },
    {
      "cell_type": "code",
      "source": [
        "transformer = QuantileTransformer(output_distribution='uniform')\n",
        "metadata['popularity'] = pd.Series(transformer.fit_transform(metadata[['popularity']]).reshape(-1))\n",
        "metadata['release_date'] = pd.Series(transformer.fit_transform(metadata[['release_date']]).reshape(-1))\n",
        "metadata['vote_average'] = metadata['vote_average'].apply(lambda x : np.nan if x==0 else x)\n",
        "mean_average = metadata['vote_average'].mean()\n",
        "metadata.fillna(mean_average, inplace=True)\n",
        "metadata['vote_average'] = (metadata['vote_average']/10)\n",
        "metadata.head(2)"
      ],
      "metadata": {
        "colab": {
          "base_uri": "https://localhost:8080/",
          "height": 191
        },
        "id": "-Dr7_dkOmv_R",
        "outputId": "de5e4bf5-d577-49fd-92e2-bf40c8628dd0"
      },
      "execution_count": null,
      "outputs": [
        {
          "output_type": "execute_result",
          "data": {
            "text/plain": [
              "     id      title                                             people  \\\n",
              "0   862  Toy Story          TomHanks TimAllen DonRickles JohnLasseter   \n",
              "1  8844    Jumanji  RobinWilliams JonathanHyde KirstenDunst Bradle...   \n",
              "\n",
              "                     genres  \\\n",
              "0   Animation Comedy Family   \n",
              "1  Adventure Fantasy Family   \n",
              "\n",
              "                                                keys  popularity  \\\n",
              "0  toy stori led woodi andi toy live happili room...    0.980310   \n",
              "1  jumanji sibl judi peter discov enchant board g...    0.956981   \n",
              "\n",
              "   release_date  vote_average  \n",
              "0          1995          0.77  \n",
              "1          1995          0.69  "
            ],
            "text/html": [
              "\n",
              "  <div id=\"df-75f0daa0-da1e-4004-be74-6b204cd265e7\">\n",
              "    <div class=\"colab-df-container\">\n",
              "      <div>\n",
              "<style scoped>\n",
              "    .dataframe tbody tr th:only-of-type {\n",
              "        vertical-align: middle;\n",
              "    }\n",
              "\n",
              "    .dataframe tbody tr th {\n",
              "        vertical-align: top;\n",
              "    }\n",
              "\n",
              "    .dataframe thead th {\n",
              "        text-align: right;\n",
              "    }\n",
              "</style>\n",
              "<table border=\"1\" class=\"dataframe\">\n",
              "  <thead>\n",
              "    <tr style=\"text-align: right;\">\n",
              "      <th></th>\n",
              "      <th>id</th>\n",
              "      <th>title</th>\n",
              "      <th>people</th>\n",
              "      <th>genres</th>\n",
              "      <th>keys</th>\n",
              "      <th>popularity</th>\n",
              "      <th>release_date</th>\n",
              "      <th>vote_average</th>\n",
              "    </tr>\n",
              "  </thead>\n",
              "  <tbody>\n",
              "    <tr>\n",
              "      <th>0</th>\n",
              "      <td>862</td>\n",
              "      <td>Toy Story</td>\n",
              "      <td>TomHanks TimAllen DonRickles JohnLasseter</td>\n",
              "      <td>Animation Comedy Family</td>\n",
              "      <td>toy stori led woodi andi toy live happili room...</td>\n",
              "      <td>0.980310</td>\n",
              "      <td>1995</td>\n",
              "      <td>0.77</td>\n",
              "    </tr>\n",
              "    <tr>\n",
              "      <th>1</th>\n",
              "      <td>8844</td>\n",
              "      <td>Jumanji</td>\n",
              "      <td>RobinWilliams JonathanHyde KirstenDunst Bradle...</td>\n",
              "      <td>Adventure Fantasy Family</td>\n",
              "      <td>jumanji sibl judi peter discov enchant board g...</td>\n",
              "      <td>0.956981</td>\n",
              "      <td>1995</td>\n",
              "      <td>0.69</td>\n",
              "    </tr>\n",
              "  </tbody>\n",
              "</table>\n",
              "</div>\n",
              "      <button class=\"colab-df-convert\" onclick=\"convertToInteractive('df-75f0daa0-da1e-4004-be74-6b204cd265e7')\"\n",
              "              title=\"Convert this dataframe to an interactive table.\"\n",
              "              style=\"display:none;\">\n",
              "        \n",
              "  <svg xmlns=\"http://www.w3.org/2000/svg\" height=\"24px\"viewBox=\"0 0 24 24\"\n",
              "       width=\"24px\">\n",
              "    <path d=\"M0 0h24v24H0V0z\" fill=\"none\"/>\n",
              "    <path d=\"M18.56 5.44l.94 2.06.94-2.06 2.06-.94-2.06-.94-.94-2.06-.94 2.06-2.06.94zm-11 1L8.5 8.5l.94-2.06 2.06-.94-2.06-.94L8.5 2.5l-.94 2.06-2.06.94zm10 10l.94 2.06.94-2.06 2.06-.94-2.06-.94-.94-2.06-.94 2.06-2.06.94z\"/><path d=\"M17.41 7.96l-1.37-1.37c-.4-.4-.92-.59-1.43-.59-.52 0-1.04.2-1.43.59L10.3 9.45l-7.72 7.72c-.78.78-.78 2.05 0 2.83L4 21.41c.39.39.9.59 1.41.59.51 0 1.02-.2 1.41-.59l7.78-7.78 2.81-2.81c.8-.78.8-2.07 0-2.86zM5.41 20L4 18.59l7.72-7.72 1.47 1.35L5.41 20z\"/>\n",
              "  </svg>\n",
              "      </button>\n",
              "      \n",
              "  <style>\n",
              "    .colab-df-container {\n",
              "      display:flex;\n",
              "      flex-wrap:wrap;\n",
              "      gap: 12px;\n",
              "    }\n",
              "\n",
              "    .colab-df-convert {\n",
              "      background-color: #E8F0FE;\n",
              "      border: none;\n",
              "      border-radius: 50%;\n",
              "      cursor: pointer;\n",
              "      display: none;\n",
              "      fill: #1967D2;\n",
              "      height: 32px;\n",
              "      padding: 0 0 0 0;\n",
              "      width: 32px;\n",
              "    }\n",
              "\n",
              "    .colab-df-convert:hover {\n",
              "      background-color: #E2EBFA;\n",
              "      box-shadow: 0px 1px 2px rgba(60, 64, 67, 0.3), 0px 1px 3px 1px rgba(60, 64, 67, 0.15);\n",
              "      fill: #174EA6;\n",
              "    }\n",
              "\n",
              "    [theme=dark] .colab-df-convert {\n",
              "      background-color: #3B4455;\n",
              "      fill: #D2E3FC;\n",
              "    }\n",
              "\n",
              "    [theme=dark] .colab-df-convert:hover {\n",
              "      background-color: #434B5C;\n",
              "      box-shadow: 0px 1px 3px 1px rgba(0, 0, 0, 0.15);\n",
              "      filter: drop-shadow(0px 1px 2px rgba(0, 0, 0, 0.3));\n",
              "      fill: #FFFFFF;\n",
              "    }\n",
              "  </style>\n",
              "\n",
              "      <script>\n",
              "        const buttonEl =\n",
              "          document.querySelector('#df-75f0daa0-da1e-4004-be74-6b204cd265e7 button.colab-df-convert');\n",
              "        buttonEl.style.display =\n",
              "          google.colab.kernel.accessAllowed ? 'block' : 'none';\n",
              "\n",
              "        async function convertToInteractive(key) {\n",
              "          const element = document.querySelector('#df-75f0daa0-da1e-4004-be74-6b204cd265e7');\n",
              "          const dataTable =\n",
              "            await google.colab.kernel.invokeFunction('convertToInteractive',\n",
              "                                                     [key], {});\n",
              "          if (!dataTable) return;\n",
              "\n",
              "          const docLinkHtml = 'Like what you see? Visit the ' +\n",
              "            '<a target=\"_blank\" href=https://colab.research.google.com/notebooks/data_table.ipynb>data table notebook</a>'\n",
              "            + ' to learn more about interactive tables.';\n",
              "          element.innerHTML = '';\n",
              "          dataTable['output_type'] = 'display_data';\n",
              "          await google.colab.output.renderOutput(dataTable, element);\n",
              "          const docLink = document.createElement('div');\n",
              "          docLink.innerHTML = docLinkHtml;\n",
              "          element.appendChild(docLink);\n",
              "        }\n",
              "      </script>\n",
              "    </div>\n",
              "  </div>\n",
              "  "
            ]
          },
          "metadata": {},
          "execution_count": 42
        }
      ]
    },
    {
      "cell_type": "code",
      "source": [
        "movies = pd.concat([pd.Series(metadata.index, name='index'), metadata[['id','title']]],axis=1)\n",
        "obj_cast = CountVectorizer(lowercase=True, analyzer='word', min_df=5)\n",
        "cast_val = obj_cast.fit_transform(metadata['people']).toarray()\n",
        "obj_genre = TfidfVectorizer()\n",
        "genre_val = np.minimum(0.5, obj_genre.fit_transform(metadata['genres']).toarray())*2\n",
        "obj_tfidf = TfidfVectorizer(min_df=50)\n",
        "tfidf_val = np.minimum(0.25, obj_tfidf.fit_transform(metadata['keys']).toarray())*6\n",
        "features_col = list(obj_cast.get_feature_names_out()) + list(obj_genre.get_feature_names_out()) + list(obj_tfidf.get_feature_names_out())\n",
        "features = np.concatenate((cast_val, genre_val, tfidf_val), axis=1)\n",
        "movies.shape, cast_val.shape, genre_val.shape, tfidf_val.shape, features.shape"
      ],
      "metadata": {
        "colab": {
          "base_uri": "https://localhost:8080/"
        },
        "id": "Xgguc4zG1x88",
        "outputId": "244a960f-5e14-411a-93c7-45fd938e4b0f"
      },
      "execution_count": null,
      "outputs": [
        {
          "output_type": "execute_result",
          "data": {
            "text/plain": [
              "((8833, 3), (8833, 3044), (8833, 22), (8833, 1379), (8833, 4445))"
            ]
          },
          "metadata": {},
          "execution_count": 114
        }
      ]
    },
    {
      "cell_type": "code",
      "source": [
        "ratings = pd.merge(ratings, links, how='inner', on='movieId')\n",
        "ratings = ratings.loc[:,['userId', 'tmdbId', 'rating']]"
      ],
      "metadata": {
        "id": "wtg24_4qt8DC"
      },
      "execution_count": null,
      "outputs": []
    },
    {
      "cell_type": "code",
      "source": [
        "userId = 1\n",
        "user_data = ratings.loc[ratings['userId']==userId]\n",
        "user_data = pd.merge(movies, user_data, how='inner', left_on='id', right_on='tmdbId')\n",
        "user_data['rating'] = (user_data['rating']-3)/2\n",
        "user_data[['index','id','title','rating']].head()"
      ],
      "metadata": {
        "colab": {
          "base_uri": "https://localhost:8080/",
          "height": 206
        },
        "id": "UPho7qPOx9-h",
        "outputId": "dbcc55b4-8dbe-4e44-cc74-656cfbd12d0e"
      },
      "execution_count": null,
      "outputs": [
        {
          "output_type": "execute_result",
          "data": {
            "text/plain": [
              "   index     id               title  rating\n",
              "0      0    862           Toy Story     0.5\n",
              "1      2  15602    Grumpier Old Men     0.5\n",
              "2      5    949                Heat     0.5\n",
              "3     43    807               Se7en     1.0\n",
              "4     46    629  The Usual Suspects     1.0"
            ],
            "text/html": [
              "\n",
              "  <div id=\"df-161b3c62-8984-4289-83cd-dd6cab9b67ab\">\n",
              "    <div class=\"colab-df-container\">\n",
              "      <div>\n",
              "<style scoped>\n",
              "    .dataframe tbody tr th:only-of-type {\n",
              "        vertical-align: middle;\n",
              "    }\n",
              "\n",
              "    .dataframe tbody tr th {\n",
              "        vertical-align: top;\n",
              "    }\n",
              "\n",
              "    .dataframe thead th {\n",
              "        text-align: right;\n",
              "    }\n",
              "</style>\n",
              "<table border=\"1\" class=\"dataframe\">\n",
              "  <thead>\n",
              "    <tr style=\"text-align: right;\">\n",
              "      <th></th>\n",
              "      <th>index</th>\n",
              "      <th>id</th>\n",
              "      <th>title</th>\n",
              "      <th>rating</th>\n",
              "    </tr>\n",
              "  </thead>\n",
              "  <tbody>\n",
              "    <tr>\n",
              "      <th>0</th>\n",
              "      <td>0</td>\n",
              "      <td>862</td>\n",
              "      <td>Toy Story</td>\n",
              "      <td>0.5</td>\n",
              "    </tr>\n",
              "    <tr>\n",
              "      <th>1</th>\n",
              "      <td>2</td>\n",
              "      <td>15602</td>\n",
              "      <td>Grumpier Old Men</td>\n",
              "      <td>0.5</td>\n",
              "    </tr>\n",
              "    <tr>\n",
              "      <th>2</th>\n",
              "      <td>5</td>\n",
              "      <td>949</td>\n",
              "      <td>Heat</td>\n",
              "      <td>0.5</td>\n",
              "    </tr>\n",
              "    <tr>\n",
              "      <th>3</th>\n",
              "      <td>43</td>\n",
              "      <td>807</td>\n",
              "      <td>Se7en</td>\n",
              "      <td>1.0</td>\n",
              "    </tr>\n",
              "    <tr>\n",
              "      <th>4</th>\n",
              "      <td>46</td>\n",
              "      <td>629</td>\n",
              "      <td>The Usual Suspects</td>\n",
              "      <td>1.0</td>\n",
              "    </tr>\n",
              "  </tbody>\n",
              "</table>\n",
              "</div>\n",
              "      <button class=\"colab-df-convert\" onclick=\"convertToInteractive('df-161b3c62-8984-4289-83cd-dd6cab9b67ab')\"\n",
              "              title=\"Convert this dataframe to an interactive table.\"\n",
              "              style=\"display:none;\">\n",
              "        \n",
              "  <svg xmlns=\"http://www.w3.org/2000/svg\" height=\"24px\"viewBox=\"0 0 24 24\"\n",
              "       width=\"24px\">\n",
              "    <path d=\"M0 0h24v24H0V0z\" fill=\"none\"/>\n",
              "    <path d=\"M18.56 5.44l.94 2.06.94-2.06 2.06-.94-2.06-.94-.94-2.06-.94 2.06-2.06.94zm-11 1L8.5 8.5l.94-2.06 2.06-.94-2.06-.94L8.5 2.5l-.94 2.06-2.06.94zm10 10l.94 2.06.94-2.06 2.06-.94-2.06-.94-.94-2.06-.94 2.06-2.06.94z\"/><path d=\"M17.41 7.96l-1.37-1.37c-.4-.4-.92-.59-1.43-.59-.52 0-1.04.2-1.43.59L10.3 9.45l-7.72 7.72c-.78.78-.78 2.05 0 2.83L4 21.41c.39.39.9.59 1.41.59.51 0 1.02-.2 1.41-.59l7.78-7.78 2.81-2.81c.8-.78.8-2.07 0-2.86zM5.41 20L4 18.59l7.72-7.72 1.47 1.35L5.41 20z\"/>\n",
              "  </svg>\n",
              "      </button>\n",
              "      \n",
              "  <style>\n",
              "    .colab-df-container {\n",
              "      display:flex;\n",
              "      flex-wrap:wrap;\n",
              "      gap: 12px;\n",
              "    }\n",
              "\n",
              "    .colab-df-convert {\n",
              "      background-color: #E8F0FE;\n",
              "      border: none;\n",
              "      border-radius: 50%;\n",
              "      cursor: pointer;\n",
              "      display: none;\n",
              "      fill: #1967D2;\n",
              "      height: 32px;\n",
              "      padding: 0 0 0 0;\n",
              "      width: 32px;\n",
              "    }\n",
              "\n",
              "    .colab-df-convert:hover {\n",
              "      background-color: #E2EBFA;\n",
              "      box-shadow: 0px 1px 2px rgba(60, 64, 67, 0.3), 0px 1px 3px 1px rgba(60, 64, 67, 0.15);\n",
              "      fill: #174EA6;\n",
              "    }\n",
              "\n",
              "    [theme=dark] .colab-df-convert {\n",
              "      background-color: #3B4455;\n",
              "      fill: #D2E3FC;\n",
              "    }\n",
              "\n",
              "    [theme=dark] .colab-df-convert:hover {\n",
              "      background-color: #434B5C;\n",
              "      box-shadow: 0px 1px 3px 1px rgba(0, 0, 0, 0.15);\n",
              "      filter: drop-shadow(0px 1px 2px rgba(0, 0, 0, 0.3));\n",
              "      fill: #FFFFFF;\n",
              "    }\n",
              "  </style>\n",
              "\n",
              "      <script>\n",
              "        const buttonEl =\n",
              "          document.querySelector('#df-161b3c62-8984-4289-83cd-dd6cab9b67ab button.colab-df-convert');\n",
              "        buttonEl.style.display =\n",
              "          google.colab.kernel.accessAllowed ? 'block' : 'none';\n",
              "\n",
              "        async function convertToInteractive(key) {\n",
              "          const element = document.querySelector('#df-161b3c62-8984-4289-83cd-dd6cab9b67ab');\n",
              "          const dataTable =\n",
              "            await google.colab.kernel.invokeFunction('convertToInteractive',\n",
              "                                                     [key], {});\n",
              "          if (!dataTable) return;\n",
              "\n",
              "          const docLinkHtml = 'Like what you see? Visit the ' +\n",
              "            '<a target=\"_blank\" href=https://colab.research.google.com/notebooks/data_table.ipynb>data table notebook</a>'\n",
              "            + ' to learn more about interactive tables.';\n",
              "          element.innerHTML = '';\n",
              "          dataTable['output_type'] = 'display_data';\n",
              "          await google.colab.output.renderOutput(dataTable, element);\n",
              "          const docLink = document.createElement('div');\n",
              "          docLink.innerHTML = docLinkHtml;\n",
              "          element.appendChild(docLink);\n",
              "        }\n",
              "      </script>\n",
              "    </div>\n",
              "  </div>\n",
              "  "
            ]
          },
          "metadata": {},
          "execution_count": 115
        }
      ]
    },
    {
      "cell_type": "code",
      "source": [
        "x_train, x_test = train_test_split(user_data, test_size=0.2, random_state= 100)\n",
        "x = features[x_train['index'].values]\n",
        "y = x_train[['rating']].values\n",
        "usermul = np.matmul(np.transpose(y), x).reshape(-1)\n",
        "feature_sum = np.sum(x, axis=0)\n",
        "feature_cnt = np.sum(x>0, axis=0)\n",
        "u1 = np.divide(usermul, feature_sum, out=np.zeros(usermul.shape), where = feature_sum!=0)\n",
        "u2 = np.log(1+feature_cnt)\n",
        "temp = np.concatenate((np.zeros(cast_val.shape[1],dtype=bool), np.ones(genre_val.shape[1]+tfidf_val.shape[1],dtype=bool)))\n",
        "np.log(1+u2, out = u2, where = temp)\n",
        "np.sqrt(u2, out = u2, where = (~temp))\n",
        "user_profile = u1*u2\n",
        "matmul = np.dot(features, user_profile)\n",
        "mv_sum = np.sum(features, axis=1)\n",
        "pred_rating = np.divide(matmul, mv_sum, out = np.zeros(matmul.shape), where = mv_sum!=0)\n",
        "pred = pd.concat([movies, pd.Series(pred_rating, name='pred_rating')],axis=1)\n",
        "pred.loc[x_train['index'].values, 'rating'] = x_train['rating'].values\n",
        "pred.loc[x_train['index'].values, 'watched'] = 1\n",
        "pred[['rating', 'pred_rating']].groupby('rating').mean().reset_index()"
      ],
      "metadata": {
        "colab": {
          "base_uri": "https://localhost:8080/",
          "height": 175
        },
        "id": "XVKDGcV8VkhR",
        "outputId": "6b795669-0c17-4312-f98b-7ffd2defde36"
      },
      "execution_count": null,
      "outputs": [
        {
          "output_type": "execute_result",
          "data": {
            "text/plain": [
              "   rating  pred_rating\n",
              "0    -0.5     0.333847\n",
              "1     0.0     0.532494\n",
              "2     0.5     0.663316\n",
              "3     1.0     0.808270"
            ],
            "text/html": [
              "\n",
              "  <div id=\"df-7226cefc-6b86-4a58-a507-d86e20d98912\">\n",
              "    <div class=\"colab-df-container\">\n",
              "      <div>\n",
              "<style scoped>\n",
              "    .dataframe tbody tr th:only-of-type {\n",
              "        vertical-align: middle;\n",
              "    }\n",
              "\n",
              "    .dataframe tbody tr th {\n",
              "        vertical-align: top;\n",
              "    }\n",
              "\n",
              "    .dataframe thead th {\n",
              "        text-align: right;\n",
              "    }\n",
              "</style>\n",
              "<table border=\"1\" class=\"dataframe\">\n",
              "  <thead>\n",
              "    <tr style=\"text-align: right;\">\n",
              "      <th></th>\n",
              "      <th>rating</th>\n",
              "      <th>pred_rating</th>\n",
              "    </tr>\n",
              "  </thead>\n",
              "  <tbody>\n",
              "    <tr>\n",
              "      <th>0</th>\n",
              "      <td>-0.5</td>\n",
              "      <td>0.333847</td>\n",
              "    </tr>\n",
              "    <tr>\n",
              "      <th>1</th>\n",
              "      <td>0.0</td>\n",
              "      <td>0.532494</td>\n",
              "    </tr>\n",
              "    <tr>\n",
              "      <th>2</th>\n",
              "      <td>0.5</td>\n",
              "      <td>0.663316</td>\n",
              "    </tr>\n",
              "    <tr>\n",
              "      <th>3</th>\n",
              "      <td>1.0</td>\n",
              "      <td>0.808270</td>\n",
              "    </tr>\n",
              "  </tbody>\n",
              "</table>\n",
              "</div>\n",
              "      <button class=\"colab-df-convert\" onclick=\"convertToInteractive('df-7226cefc-6b86-4a58-a507-d86e20d98912')\"\n",
              "              title=\"Convert this dataframe to an interactive table.\"\n",
              "              style=\"display:none;\">\n",
              "        \n",
              "  <svg xmlns=\"http://www.w3.org/2000/svg\" height=\"24px\"viewBox=\"0 0 24 24\"\n",
              "       width=\"24px\">\n",
              "    <path d=\"M0 0h24v24H0V0z\" fill=\"none\"/>\n",
              "    <path d=\"M18.56 5.44l.94 2.06.94-2.06 2.06-.94-2.06-.94-.94-2.06-.94 2.06-2.06.94zm-11 1L8.5 8.5l.94-2.06 2.06-.94-2.06-.94L8.5 2.5l-.94 2.06-2.06.94zm10 10l.94 2.06.94-2.06 2.06-.94-2.06-.94-.94-2.06-.94 2.06-2.06.94z\"/><path d=\"M17.41 7.96l-1.37-1.37c-.4-.4-.92-.59-1.43-.59-.52 0-1.04.2-1.43.59L10.3 9.45l-7.72 7.72c-.78.78-.78 2.05 0 2.83L4 21.41c.39.39.9.59 1.41.59.51 0 1.02-.2 1.41-.59l7.78-7.78 2.81-2.81c.8-.78.8-2.07 0-2.86zM5.41 20L4 18.59l7.72-7.72 1.47 1.35L5.41 20z\"/>\n",
              "  </svg>\n",
              "      </button>\n",
              "      \n",
              "  <style>\n",
              "    .colab-df-container {\n",
              "      display:flex;\n",
              "      flex-wrap:wrap;\n",
              "      gap: 12px;\n",
              "    }\n",
              "\n",
              "    .colab-df-convert {\n",
              "      background-color: #E8F0FE;\n",
              "      border: none;\n",
              "      border-radius: 50%;\n",
              "      cursor: pointer;\n",
              "      display: none;\n",
              "      fill: #1967D2;\n",
              "      height: 32px;\n",
              "      padding: 0 0 0 0;\n",
              "      width: 32px;\n",
              "    }\n",
              "\n",
              "    .colab-df-convert:hover {\n",
              "      background-color: #E2EBFA;\n",
              "      box-shadow: 0px 1px 2px rgba(60, 64, 67, 0.3), 0px 1px 3px 1px rgba(60, 64, 67, 0.15);\n",
              "      fill: #174EA6;\n",
              "    }\n",
              "\n",
              "    [theme=dark] .colab-df-convert {\n",
              "      background-color: #3B4455;\n",
              "      fill: #D2E3FC;\n",
              "    }\n",
              "\n",
              "    [theme=dark] .colab-df-convert:hover {\n",
              "      background-color: #434B5C;\n",
              "      box-shadow: 0px 1px 3px 1px rgba(0, 0, 0, 0.15);\n",
              "      filter: drop-shadow(0px 1px 2px rgba(0, 0, 0, 0.3));\n",
              "      fill: #FFFFFF;\n",
              "    }\n",
              "  </style>\n",
              "\n",
              "      <script>\n",
              "        const buttonEl =\n",
              "          document.querySelector('#df-7226cefc-6b86-4a58-a507-d86e20d98912 button.colab-df-convert');\n",
              "        buttonEl.style.display =\n",
              "          google.colab.kernel.accessAllowed ? 'block' : 'none';\n",
              "\n",
              "        async function convertToInteractive(key) {\n",
              "          const element = document.querySelector('#df-7226cefc-6b86-4a58-a507-d86e20d98912');\n",
              "          const dataTable =\n",
              "            await google.colab.kernel.invokeFunction('convertToInteractive',\n",
              "                                                     [key], {});\n",
              "          if (!dataTable) return;\n",
              "\n",
              "          const docLinkHtml = 'Like what you see? Visit the ' +\n",
              "            '<a target=\"_blank\" href=https://colab.research.google.com/notebooks/data_table.ipynb>data table notebook</a>'\n",
              "            + ' to learn more about interactive tables.';\n",
              "          element.innerHTML = '';\n",
              "          dataTable['output_type'] = 'display_data';\n",
              "          await google.colab.output.renderOutput(dataTable, element);\n",
              "          const docLink = document.createElement('div');\n",
              "          docLink.innerHTML = docLinkHtml;\n",
              "          element.appendChild(docLink);\n",
              "        }\n",
              "      </script>\n",
              "    </div>\n",
              "  </div>\n",
              "  "
            ]
          },
          "metadata": {},
          "execution_count": 116
        }
      ]
    },
    {
      "cell_type": "code",
      "source": [
        "user_profile[0:3046].max(), user_profile[3046:3068].max(), user_profile[3068:].max()"
      ],
      "metadata": {
        "colab": {
          "base_uri": "https://localhost:8080/"
        },
        "id": "Fa0m-QvXCC3Q",
        "outputId": "55ed028d-2594-4c0e-fdca-8736d58a9100"
      },
      "execution_count": null,
      "outputs": [
        {
          "output_type": "execute_result",
          "data": {
            "text/plain": [
              "(1.2686362411795196, 1.1740086736720143, 1.1829343104176024)"
            ]
          },
          "metadata": {},
          "execution_count": 106
        }
      ]
    },
    {
      "cell_type": "code",
      "source": [
        "u2[0:3046].max(), u2[3046:3068].max(), u2[3068:].max()"
      ],
      "metadata": {
        "colab": {
          "base_uri": "https://localhost:8080/"
        },
        "id": "XuHA1MmoTzXY",
        "outputId": "24abd25d-b26b-40e0-9b2b-6e1a7a3b7771"
      },
      "execution_count": null,
      "outputs": [
        {
          "output_type": "execute_result",
          "data": {
            "text/plain": [
              "(1.6437209301888343, 1.6466671712706678, 1.5341940066777084)"
            ]
          },
          "metadata": {},
          "execution_count": 100
        }
      ]
    },
    {
      "cell_type": "code",
      "source": [
        "user_features = sorted(list(enumerate(user_profile)), key=lambda x : x[1], reverse=True)\n",
        "[(i[0],features_col[i[0]],i[1]) for i in user_features[0:40]]"
      ],
      "metadata": {
        "colab": {
          "base_uri": "https://localhost:8080/"
        },
        "id": "NSb_FwkFCUgU",
        "outputId": "d46f210c-ede4-4e2d-cabd-c6bbb15c85a7"
      },
      "execution_count": null,
      "outputs": [
        {
          "output_type": "execute_result",
          "data": {
            "text/plain": [
              "[(1664, 'kevinspacey', 1.2686362411795196),\n",
              " (3010, 'wolfgangreitherman', 1.2686362411795196),\n",
              " (2723, 'stevebuscemi', 1.2047095791412654),\n",
              " (4391, 'way', 1.185639047955683),\n",
              " (1395, 'johncleese', 1.1774100225154747),\n",
              " (3046, 'animation', 1.1740086736720143),\n",
              " (3128, 'anim', 1.1644710863810457),\n",
              " (3531, 'fight', 1.163065230548284),\n",
              " (3050, 'drama', 1.1401820385397592),\n",
              " (2738, 'stevenspielberg', 1.133021125186408),\n",
              " (3510, 'famili', 1.118548568475036),\n",
              " (3783, 'life', 1.1174378487310943),\n",
              " (1054, 'harrisonford', 1.1100567110320796),\n",
              " (2005, 'michaeldouglas', 1.1100567110320796),\n",
              " (2618, 'seanconnery', 1.1100567110320796),\n",
              " (3535, 'film', 1.1083118248547639),\n",
              " (3048, 'crime', 1.1052277688397656),\n",
              " (4428, 'world', 1.0995217130690467),\n",
              " (4385, 'war', 1.0843453133307492),\n",
              " (3816, 'man', 1.0825968808551008),\n",
              " (4221, 'stop', 1.0810314794004443),\n",
              " (3624, 'happen', 1.0804178182729878),\n",
              " (3925, 'one', 1.0780484604223295),\n",
              " (3581, 'gang', 1.0742422652806207),\n",
              " (3992, 'power', 1.0730461226755268),\n",
              " (3614, 'group', 1.0707447631018414),\n",
              " (3868, 'money', 1.05691189095895),\n",
              " (3377, 'decid', 1.0563637032805517),\n",
              " (3748, 'king', 1.055926587709116),\n",
              " (3211, 'boy', 1.0556323119846445),\n",
              " (3047, 'comedy', 1.0556139583307211),\n",
              " (3815, 'male', 1.053211559955499),\n",
              " (255, 'bernardlee', 1.048147073968205),\n",
              " (336, 'briancox', 1.048147073968205),\n",
              " (469, 'chrisfarley', 1.048147073968205),\n",
              " (633, 'davidfincher', 1.048147073968205),\n",
              " (689, 'denholmelliott', 1.048147073968205),\n",
              " (703, 'derekjacobi', 1.048147073968205),\n",
              " (794, 'edwardnorton', 1.048147073968205),\n",
              " (855, 'ericidle', 1.048147073968205)]"
            ]
          },
          "metadata": {},
          "execution_count": 117
        }
      ]
    },
    {
      "cell_type": "code",
      "source": [
        "pred.iloc[1993,:]"
      ],
      "metadata": {
        "colab": {
          "base_uri": "https://localhost:8080/"
        },
        "id": "Vg3kT--bulGB",
        "outputId": "6f2a51c8-08ff-49d2-a2c2-1309da8b430a"
      },
      "execution_count": null,
      "outputs": [
        {
          "output_type": "execute_result",
          "data": {
            "text/plain": [
              "index                  1993\n",
              "id                      861\n",
              "title          Total Recall\n",
              "pred_rating        0.476866\n",
              "rating                  0.5\n",
              "watched                 NaN\n",
              "Name: 1993, dtype: object"
            ]
          },
          "metadata": {},
          "execution_count": 77
        }
      ]
    },
    {
      "cell_type": "code",
      "source": [
        "pred.loc[x_test['index'].values, 'rating'] = x_test['rating'].values\n",
        "unwatched = pred.loc[np.isnan(pred['watched']),:]\n",
        "unwatched.sort_values('pred_rating', ascending = False).head(100)"
      ],
      "metadata": {
        "colab": {
          "base_uri": "https://localhost:8080/",
          "height": 424
        },
        "id": "z30OU7YpFmHw",
        "outputId": "aabe2c9d-6073-4e69-d598-11bbf5530e5b"
      },
      "execution_count": null,
      "outputs": [
        {
          "output_type": "execute_result",
          "data": {
            "text/plain": [
              "      index     id                               title  pred_rating  rating  \\\n",
              "8539   8539  44238                      World of Glory     0.976608     NaN   \n",
              "6844   6844  36540  Winnie the Pooh and the Honey Tree     0.922953     NaN   \n",
              "3439   3439  35651                            Time Out     0.912886     NaN   \n",
              "8818   8818  79701                  Gena the Crocodile     0.888640     NaN   \n",
              "5224   5224  13409                    State Property 2     0.876663     NaN   \n",
              "...     ...    ...                                 ...          ...     ...   \n",
              "634     634  12632                       Kaspar Hauser     0.766646     NaN   \n",
              "2924   2924  29937                     Divided We Fall     0.766003     NaN   \n",
              "5999   5999  13054             Rise of the Footsoldier     0.765687     NaN   \n",
              "2437   2437  23531                             Whipped     0.765681     NaN   \n",
              "3029   3029  12144                The Land Before Time     0.765523     NaN   \n",
              "\n",
              "      watched  \n",
              "8539      NaN  \n",
              "6844      NaN  \n",
              "3439      NaN  \n",
              "8818      NaN  \n",
              "5224      NaN  \n",
              "...       ...  \n",
              "634       NaN  \n",
              "2924      NaN  \n",
              "5999      NaN  \n",
              "2437      NaN  \n",
              "3029      NaN  \n",
              "\n",
              "[100 rows x 6 columns]"
            ],
            "text/html": [
              "\n",
              "  <div id=\"df-2608db8a-a56e-4348-93d6-fc8aed544c7d\">\n",
              "    <div class=\"colab-df-container\">\n",
              "      <div>\n",
              "<style scoped>\n",
              "    .dataframe tbody tr th:only-of-type {\n",
              "        vertical-align: middle;\n",
              "    }\n",
              "\n",
              "    .dataframe tbody tr th {\n",
              "        vertical-align: top;\n",
              "    }\n",
              "\n",
              "    .dataframe thead th {\n",
              "        text-align: right;\n",
              "    }\n",
              "</style>\n",
              "<table border=\"1\" class=\"dataframe\">\n",
              "  <thead>\n",
              "    <tr style=\"text-align: right;\">\n",
              "      <th></th>\n",
              "      <th>index</th>\n",
              "      <th>id</th>\n",
              "      <th>title</th>\n",
              "      <th>pred_rating</th>\n",
              "      <th>rating</th>\n",
              "      <th>watched</th>\n",
              "    </tr>\n",
              "  </thead>\n",
              "  <tbody>\n",
              "    <tr>\n",
              "      <th>8539</th>\n",
              "      <td>8539</td>\n",
              "      <td>44238</td>\n",
              "      <td>World of Glory</td>\n",
              "      <td>0.976608</td>\n",
              "      <td>NaN</td>\n",
              "      <td>NaN</td>\n",
              "    </tr>\n",
              "    <tr>\n",
              "      <th>6844</th>\n",
              "      <td>6844</td>\n",
              "      <td>36540</td>\n",
              "      <td>Winnie the Pooh and the Honey Tree</td>\n",
              "      <td>0.922953</td>\n",
              "      <td>NaN</td>\n",
              "      <td>NaN</td>\n",
              "    </tr>\n",
              "    <tr>\n",
              "      <th>3439</th>\n",
              "      <td>3439</td>\n",
              "      <td>35651</td>\n",
              "      <td>Time Out</td>\n",
              "      <td>0.912886</td>\n",
              "      <td>NaN</td>\n",
              "      <td>NaN</td>\n",
              "    </tr>\n",
              "    <tr>\n",
              "      <th>8818</th>\n",
              "      <td>8818</td>\n",
              "      <td>79701</td>\n",
              "      <td>Gena the Crocodile</td>\n",
              "      <td>0.888640</td>\n",
              "      <td>NaN</td>\n",
              "      <td>NaN</td>\n",
              "    </tr>\n",
              "    <tr>\n",
              "      <th>5224</th>\n",
              "      <td>5224</td>\n",
              "      <td>13409</td>\n",
              "      <td>State Property 2</td>\n",
              "      <td>0.876663</td>\n",
              "      <td>NaN</td>\n",
              "      <td>NaN</td>\n",
              "    </tr>\n",
              "    <tr>\n",
              "      <th>...</th>\n",
              "      <td>...</td>\n",
              "      <td>...</td>\n",
              "      <td>...</td>\n",
              "      <td>...</td>\n",
              "      <td>...</td>\n",
              "      <td>...</td>\n",
              "    </tr>\n",
              "    <tr>\n",
              "      <th>634</th>\n",
              "      <td>634</td>\n",
              "      <td>12632</td>\n",
              "      <td>Kaspar Hauser</td>\n",
              "      <td>0.766646</td>\n",
              "      <td>NaN</td>\n",
              "      <td>NaN</td>\n",
              "    </tr>\n",
              "    <tr>\n",
              "      <th>2924</th>\n",
              "      <td>2924</td>\n",
              "      <td>29937</td>\n",
              "      <td>Divided We Fall</td>\n",
              "      <td>0.766003</td>\n",
              "      <td>NaN</td>\n",
              "      <td>NaN</td>\n",
              "    </tr>\n",
              "    <tr>\n",
              "      <th>5999</th>\n",
              "      <td>5999</td>\n",
              "      <td>13054</td>\n",
              "      <td>Rise of the Footsoldier</td>\n",
              "      <td>0.765687</td>\n",
              "      <td>NaN</td>\n",
              "      <td>NaN</td>\n",
              "    </tr>\n",
              "    <tr>\n",
              "      <th>2437</th>\n",
              "      <td>2437</td>\n",
              "      <td>23531</td>\n",
              "      <td>Whipped</td>\n",
              "      <td>0.765681</td>\n",
              "      <td>NaN</td>\n",
              "      <td>NaN</td>\n",
              "    </tr>\n",
              "    <tr>\n",
              "      <th>3029</th>\n",
              "      <td>3029</td>\n",
              "      <td>12144</td>\n",
              "      <td>The Land Before Time</td>\n",
              "      <td>0.765523</td>\n",
              "      <td>NaN</td>\n",
              "      <td>NaN</td>\n",
              "    </tr>\n",
              "  </tbody>\n",
              "</table>\n",
              "<p>100 rows × 6 columns</p>\n",
              "</div>\n",
              "      <button class=\"colab-df-convert\" onclick=\"convertToInteractive('df-2608db8a-a56e-4348-93d6-fc8aed544c7d')\"\n",
              "              title=\"Convert this dataframe to an interactive table.\"\n",
              "              style=\"display:none;\">\n",
              "        \n",
              "  <svg xmlns=\"http://www.w3.org/2000/svg\" height=\"24px\"viewBox=\"0 0 24 24\"\n",
              "       width=\"24px\">\n",
              "    <path d=\"M0 0h24v24H0V0z\" fill=\"none\"/>\n",
              "    <path d=\"M18.56 5.44l.94 2.06.94-2.06 2.06-.94-2.06-.94-.94-2.06-.94 2.06-2.06.94zm-11 1L8.5 8.5l.94-2.06 2.06-.94-2.06-.94L8.5 2.5l-.94 2.06-2.06.94zm10 10l.94 2.06.94-2.06 2.06-.94-2.06-.94-.94-2.06-.94 2.06-2.06.94z\"/><path d=\"M17.41 7.96l-1.37-1.37c-.4-.4-.92-.59-1.43-.59-.52 0-1.04.2-1.43.59L10.3 9.45l-7.72 7.72c-.78.78-.78 2.05 0 2.83L4 21.41c.39.39.9.59 1.41.59.51 0 1.02-.2 1.41-.59l7.78-7.78 2.81-2.81c.8-.78.8-2.07 0-2.86zM5.41 20L4 18.59l7.72-7.72 1.47 1.35L5.41 20z\"/>\n",
              "  </svg>\n",
              "      </button>\n",
              "      \n",
              "  <style>\n",
              "    .colab-df-container {\n",
              "      display:flex;\n",
              "      flex-wrap:wrap;\n",
              "      gap: 12px;\n",
              "    }\n",
              "\n",
              "    .colab-df-convert {\n",
              "      background-color: #E8F0FE;\n",
              "      border: none;\n",
              "      border-radius: 50%;\n",
              "      cursor: pointer;\n",
              "      display: none;\n",
              "      fill: #1967D2;\n",
              "      height: 32px;\n",
              "      padding: 0 0 0 0;\n",
              "      width: 32px;\n",
              "    }\n",
              "\n",
              "    .colab-df-convert:hover {\n",
              "      background-color: #E2EBFA;\n",
              "      box-shadow: 0px 1px 2px rgba(60, 64, 67, 0.3), 0px 1px 3px 1px rgba(60, 64, 67, 0.15);\n",
              "      fill: #174EA6;\n",
              "    }\n",
              "\n",
              "    [theme=dark] .colab-df-convert {\n",
              "      background-color: #3B4455;\n",
              "      fill: #D2E3FC;\n",
              "    }\n",
              "\n",
              "    [theme=dark] .colab-df-convert:hover {\n",
              "      background-color: #434B5C;\n",
              "      box-shadow: 0px 1px 3px 1px rgba(0, 0, 0, 0.15);\n",
              "      filter: drop-shadow(0px 1px 2px rgba(0, 0, 0, 0.3));\n",
              "      fill: #FFFFFF;\n",
              "    }\n",
              "  </style>\n",
              "\n",
              "      <script>\n",
              "        const buttonEl =\n",
              "          document.querySelector('#df-2608db8a-a56e-4348-93d6-fc8aed544c7d button.colab-df-convert');\n",
              "        buttonEl.style.display =\n",
              "          google.colab.kernel.accessAllowed ? 'block' : 'none';\n",
              "\n",
              "        async function convertToInteractive(key) {\n",
              "          const element = document.querySelector('#df-2608db8a-a56e-4348-93d6-fc8aed544c7d');\n",
              "          const dataTable =\n",
              "            await google.colab.kernel.invokeFunction('convertToInteractive',\n",
              "                                                     [key], {});\n",
              "          if (!dataTable) return;\n",
              "\n",
              "          const docLinkHtml = 'Like what you see? Visit the ' +\n",
              "            '<a target=\"_blank\" href=https://colab.research.google.com/notebooks/data_table.ipynb>data table notebook</a>'\n",
              "            + ' to learn more about interactive tables.';\n",
              "          element.innerHTML = '';\n",
              "          dataTable['output_type'] = 'display_data';\n",
              "          await google.colab.output.renderOutput(dataTable, element);\n",
              "          const docLink = document.createElement('div');\n",
              "          docLink.innerHTML = docLinkHtml;\n",
              "          element.appendChild(docLink);\n",
              "        }\n",
              "      </script>\n",
              "    </div>\n",
              "  </div>\n",
              "  "
            ]
          },
          "metadata": {},
          "execution_count": 118
        }
      ]
    },
    {
      "cell_type": "code",
      "source": [
        "def why_this_movie(user_profile, movie_index):\n",
        "    temp = user_profile*features[movie_index,:]\n",
        "    temp = sorted(list(enumerate(temp)), key=lambda x : x[1], reverse=True)\n",
        "    return [(i[0],features_col[i[0]],i[1]) for i in temp[0:10]]"
      ],
      "metadata": {
        "id": "XCNzOWEgLNLN"
      },
      "execution_count": null,
      "outputs": []
    },
    {
      "cell_type": "code",
      "source": [
        "why_this_movie(user_profile, 8818)"
      ],
      "metadata": {
        "colab": {
          "base_uri": "https://localhost:8080/"
        },
        "id": "jmJNsdx2UUd-",
        "outputId": "a0c42b17-f936-4243-c18c-abd5ff3d9460"
      },
      "execution_count": null,
      "outputs": [
        {
          "output_type": "execute_result",
          "data": {
            "text/plain": [
              "[(3128, 'anim', 1.7467066295715685),\n",
              " (3541, 'first', 1.371662302392499),\n",
              " (3046, 'animation', 1.1740086736720143),\n",
              " (3051, 'family', 1.0394622831127582),\n",
              " (0, '50cent', 0.0),\n",
              " (1, 'aaroneckhart', 0.0),\n",
              " (2, 'aaronpaul', 0.0),\n",
              " (3, 'aarontaylorjohnson', 0.0),\n",
              " (4, 'aasifmandvi', 0.0),\n",
              " (5, 'abbiecornish', 0.0)]"
            ]
          },
          "metadata": {},
          "execution_count": 119
        }
      ]
    },
    {
      "cell_type": "code",
      "source": [
        "features[8818,3046], user_profile[3046]"
      ],
      "metadata": {
        "colab": {
          "base_uri": "https://localhost:8080/"
        },
        "id": "WLlXQUysTbDp",
        "outputId": "adf958ca-c0c2-4d81-cc6f-0c03a4e88137"
      },
      "execution_count": null,
      "outputs": [
        {
          "output_type": "execute_result",
          "data": {
            "text/plain": [
              "(1.0, 1.1740086736720143)"
            ]
          },
          "metadata": {},
          "execution_count": 122
        }
      ]
    },
    {
      "cell_type": "code",
      "source": [],
      "metadata": {
        "id": "wN1pTJP5Ehtc"
      },
      "execution_count": null,
      "outputs": []
    },
    {
      "cell_type": "code",
      "source": [
        "metadata.iloc[8818,:]"
      ],
      "metadata": {
        "colab": {
          "base_uri": "https://localhost:8080/"
        },
        "id": "GWyhXbn5U-ho",
        "outputId": "13f26272-f13c-4a2d-af39-b6aa46275992"
      },
      "execution_count": null,
      "outputs": [
        {
          "output_type": "execute_result",
          "data": {
            "text/plain": [
              "id                                                    79701\n",
              "title                                    Gena the Crocodile\n",
              "people          VasiliyLivanov KlaraRumyanova RomanKachanov\n",
              "genres                                     Animation Family\n",
              "keys              gena crocodil first anim gena cheburashka\n",
              "popularity                                         0.059272\n",
              "release_date                                       0.039039\n",
              "vote_average                                           0.67\n",
              "Name: 8818, dtype: object"
            ]
          },
          "metadata": {},
          "execution_count": 120
        }
      ]
    },
    {
      "cell_type": "code",
      "source": [
        "user_profile.shape"
      ],
      "metadata": {
        "colab": {
          "base_uri": "https://localhost:8080/"
        },
        "id": "8U_EReIOTuOp",
        "outputId": "b55003ec-501e-4cd6-f755-c401201288f8"
      },
      "execution_count": null,
      "outputs": [
        {
          "output_type": "execute_result",
          "data": {
            "text/plain": [
              "(7764,)"
            ]
          },
          "metadata": {},
          "execution_count": 105
        }
      ]
    },
    {
      "cell_type": "code",
      "source": [
        "().shape"
      ],
      "metadata": {
        "colab": {
          "base_uri": "https://localhost:8080/"
        },
        "id": "6eYTtaxdTztc",
        "outputId": "986c323c-1242-46fe-df8a-a6547df90931"
      },
      "execution_count": null,
      "outputs": [
        {
          "output_type": "execute_result",
          "data": {
            "text/plain": [
              "(7764,)"
            ]
          },
          "metadata": {},
          "execution_count": 107
        }
      ]
    }
  ]
}