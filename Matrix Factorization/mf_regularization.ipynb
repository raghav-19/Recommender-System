{
 "cells": [
  {
   "cell_type": "code",
   "execution_count": 1,
   "id": "6b9e4c66-84b4-40bd-8947-8137cdd40126",
   "metadata": {
    "tags": []
   },
   "outputs": [],
   "source": [
    "import numpy as np\n",
    "import pandas as pd\n",
    "import matplotlib.pyplot as plt\n",
    "from scipy import sparse\n",
    "from datetime import datetime\n",
    "from sklearn.model_selection import train_test_split\n",
    "from sklearn.metrics import mean_squared_error as mse\n",
    "np.set_printoptions(suppress=True)"
   ]
  },
  {
   "cell_type": "code",
   "execution_count": 2,
   "id": "3fdcabf7-7ed6-4f2b-8d0e-6ae690e25eac",
   "metadata": {
    "tags": []
   },
   "outputs": [
    {
     "data": {
      "text/html": [
       "<div>\n",
       "<style scoped>\n",
       "    .dataframe tbody tr th:only-of-type {\n",
       "        vertical-align: middle;\n",
       "    }\n",
       "\n",
       "    .dataframe tbody tr th {\n",
       "        vertical-align: top;\n",
       "    }\n",
       "\n",
       "    .dataframe thead th {\n",
       "        text-align: right;\n",
       "    }\n",
       "</style>\n",
       "<table border=\"1\" class=\"dataframe\">\n",
       "  <thead>\n",
       "    <tr style=\"text-align: right;\">\n",
       "      <th></th>\n",
       "      <th>userId</th>\n",
       "      <th>movieId</th>\n",
       "      <th>rating</th>\n",
       "    </tr>\n",
       "  </thead>\n",
       "  <tbody>\n",
       "    <tr>\n",
       "      <th>0</th>\n",
       "      <td>30561</td>\n",
       "      <td>121</td>\n",
       "      <td>3.5</td>\n",
       "    </tr>\n",
       "    <tr>\n",
       "      <th>1</th>\n",
       "      <td>30561</td>\n",
       "      <td>589</td>\n",
       "      <td>3.5</td>\n",
       "    </tr>\n",
       "    <tr>\n",
       "      <th>2</th>\n",
       "      <td>30561</td>\n",
       "      <td>20</td>\n",
       "      <td>3.5</td>\n",
       "    </tr>\n",
       "    <tr>\n",
       "      <th>3</th>\n",
       "      <td>30561</td>\n",
       "      <td>19</td>\n",
       "      <td>3.5</td>\n",
       "    </tr>\n",
       "    <tr>\n",
       "      <th>4</th>\n",
       "      <td>30561</td>\n",
       "      <td>13</td>\n",
       "      <td>3.5</td>\n",
       "    </tr>\n",
       "  </tbody>\n",
       "</table>\n",
       "</div>"
      ],
      "text/plain": [
       "   userId  movieId  rating\n",
       "0   30561      121     3.5\n",
       "1   30561      589     3.5\n",
       "2   30561       20     3.5\n",
       "3   30561       19     3.5\n",
       "4   30561       13     3.5"
      ]
     },
     "execution_count": 2,
     "metadata": {},
     "output_type": "execute_result"
    }
   ],
   "source": [
    "df = pd.read_csv('filtered_ratings.csv')\n",
    "df.head()"
   ]
  },
  {
   "cell_type": "code",
   "execution_count": 3,
   "id": "61fae8ed-ea04-4fa1-9c16-0c1a26fbcbca",
   "metadata": {
    "tags": []
   },
   "outputs": [],
   "source": [
    "N = df['userId'].nunique()\n",
    "M = df['movieId'].nunique()"
   ]
  },
  {
   "cell_type": "code",
   "execution_count": 4,
   "id": "5e505fdd-e351-4828-a133-13c13f65beda",
   "metadata": {
    "tags": []
   },
   "outputs": [],
   "source": [
    "train, test = train_test_split(df, test_size=0.2, random_state=0)\n",
    "X_train = np.array(train.iloc[:,0:2].values, dtype='int64')\n",
    "y_train = train.iloc[:,2].values\n",
    "X_test = np.array(test.iloc[:,0:2].values, dtype='int64')\n",
    "y_test = test.iloc[:,2].values\n",
    "if train['userId'].nunique()!=N or train['movieId'].nunique()!=M:\n",
    "    print(\"change random state\")"
   ]
  },
  {
   "cell_type": "code",
   "execution_count": 5,
   "id": "9e50a690-3bba-4f3f-b250-50bcdcab40db",
   "metadata": {
    "tags": []
   },
   "outputs": [],
   "source": [
    "userids = np.array(train['userId'])\n",
    "itemids = np.array(train['movieId'])\n",
    "ratings = np.array(train['rating'])\n",
    "csr_df = sparse.csr_matrix((ratings, (userids, itemids)), shape=(N,M))\n",
    "csc_df = sparse.csc_matrix((ratings, (userids, itemids)), shape=(N,M))"
   ]
  },
  {
   "cell_type": "code",
   "execution_count": 6,
   "id": "554dc7af-b304-47cf-a774-26bd3f296a55",
   "metadata": {
    "tags": []
   },
   "outputs": [],
   "source": [
    "K = 10  #latent dimension\n",
    "W = np.random.rand(N, K)  #User feature Matrix\n",
    "U = np.random.rand(M, K)  #Item feature Matrix\n",
    "B = np.random.rand(N)     #User bias\n",
    "C = np.random.rand(M)     #Item bias\n",
    "g = ratings.mean()        #average rating on training dataset"
   ]
  },
  {
   "cell_type": "code",
   "execution_count": 7,
   "id": "2a568f7b-2e20-45d1-ab9b-8bed4ed754c4",
   "metadata": {
    "tags": []
   },
   "outputs": [],
   "source": [
    "def single_pred(i, j):\n",
    "    return np.dot(W[i],U[j])+B[i]+C[j]+g"
   ]
  },
  {
   "cell_type": "code",
   "execution_count": 8,
   "id": "8d2ae3df-beca-4fff-8feb-482c1025a515",
   "metadata": {
    "tags": []
   },
   "outputs": [
    {
     "name": "stdout",
     "output_type": "stream",
     "text": [
      "Starting 2023-06-15 18:35:56.651775\n",
      "2023-06-15 18:37:07.973219 1 0.7184289166016404 0.81535614853213\n",
      "2023-06-15 18:38:18.786599 2 0.5997687192678612 0.7068358591927753\n",
      "2023-06-15 18:39:27.911365 3 0.5544643794620719 0.6604668568740041\n",
      "2023-06-15 18:40:41.983125 4 0.5380318913711406 0.6433021919005043\n",
      "2023-06-15 18:41:53.952865 5 0.5301192228771462 0.6343048258985543\n",
      "2023-06-15 18:43:06.060435 6 0.5255079215078804 0.6285622624657093\n",
      "2023-06-15 18:44:17.703537 7 0.5224323678633036 0.6243812224028351\n",
      "2023-06-15 18:45:29.577455 8 0.5201802985388475 0.6210422610252853\n",
      "2023-06-15 18:46:41.143725 9 0.5184799587911629 0.6183940928504787\n",
      "2023-06-15 18:47:55.060550 10 0.5172074102062112 0.6164177351178981\n",
      "2023-06-15 18:49:08.270881 11 0.5162650249607432 0.6150217575773315\n",
      "2023-06-15 18:50:20.335595 12 0.5155619235615297 0.6140627064061074\n",
      "2023-06-15 18:51:32.457974 13 0.5150239968630919 0.6133980401856389\n",
      "2023-06-15 18:52:44.238820 14 0.5145981843217424 0.6129235811738282\n",
      "2023-06-15 18:53:55.843101 15 0.5142493085575827 0.6125729452994042\n"
     ]
    }
   ],
   "source": [
    "epochs = 15\n",
    "reg = 0.01\n",
    "train_loss, test_loss = [], []\n",
    "print(\"Starting\", datetime.now())\n",
    "for epoch in range(epochs):\n",
    "    for i in range(N):\n",
    "        try:\n",
    "            items = csr_df.getrow(i).indices\n",
    "            u = U[items,:].reshape(-1, K, 1)\n",
    "            a = np.sum(np.matmul(u, np.transpose(u, axes=[0,2,1])), 0) + reg*np.eye(K,K)\n",
    "            b = np.sum(np.multiply(U[items,:], (csr_df.getrow(i).data-B[i]-C[items]-g).reshape(-1, 1)), 0)\n",
    "            W[i] = np.linalg.solve(a,b)\n",
    "        except :\n",
    "            continue\n",
    "    for i in range(N):\n",
    "        items = csr_df.getrow(i).indices\n",
    "        B[i] = np.sum(csr_df.getrow(i).data-np.matmul(U[items,:], W[i])-C[items]-g)/float(reg+csr_df.getrow(i).nnz)\n",
    "    for j in range(M):\n",
    "        try:\n",
    "            users = csc_df.getcol(j).indices\n",
    "            w = W[users,:].reshape(-1, K, 1)\n",
    "            a = np.sum(np.matmul(w, np.transpose(w, axes=[0,2,1])), 0) + reg*np.eye(K,K)\n",
    "            b = np.sum(np.multiply(W[users,:], (csc_df.getcol(j).data-B[users]-C[j]-g).reshape(-1, 1)), 0)\n",
    "            U[j] = np.linalg.solve(a,b)\n",
    "        except:\n",
    "            continue\n",
    "    for j in range(M):\n",
    "        users = csc_df.getcol(j).indices\n",
    "        C[j] = np.sum(csc_df.getcol(j).data-np.matmul(W[users,:], U[j])-B[users]-g)/float(reg+csc_df.getcol(j).nnz)\n",
    "    \n",
    "    train_loss.append(mse(y_train, np.sum(W[X_train[:,0]]*U[X_train[:,1]], axis=1)+B[X_train[:,0]]+C[X_train[:,1]]+g))\n",
    "    test_loss.append(mse(y_test, np.sum(W[X_test[:,0]]*U[X_test[:,1]], axis=1)+B[X_test[:,0]]+C[X_test[:,1]]+g))\n",
    "    print(datetime.now(), epoch+1, train_loss[-1], test_loss[-1])"
   ]
  },
  {
   "cell_type": "code",
   "execution_count": 9,
   "id": "d9ba74e2-91d9-4429-89bc-fa1506697860",
   "metadata": {
    "tags": []
   },
   "outputs": [
    {
     "data": {
      "image/png": "[encoded data removed]",
      "text/plain": [
       "<Figure size 640x480 with 1 Axes>"
      ]
     },
     "metadata": {},
     "output_type": "display_data"
    }
   ],
   "source": [
    "plt.plot(train_loss, label='train_loss')\n",
    "plt.plot(test_loss, label='test_loss')\n",
    "plt.legend()\n",
    "plt.show()"
   ]
  },
  {
   "cell_type": "code",
   "execution_count": null,
   "id": "91908b0e-95cf-4b93-995e-2d40aa86f17c",
   "metadata": {},
   "outputs": [],
   "source": []
  }
 ],
 "metadata": {
  "kernelspec": {
   "display_name": "Python 3 (ipykernel)",
   "language": "python",
   "name": "python3"
  },
  "language_info": {
   "codemirror_mode": {
    "name": "ipython",
    "version": 3
   },
   "file_extension": ".py",
   "mimetype": "text/x-python",
   "name": "python",
   "nbconvert_exporter": "python",
   "pygments_lexer": "ipython3",
   "version": "3.10.10"
  }
 },
 "nbformat": 4,
 "nbformat_minor": 5
}
