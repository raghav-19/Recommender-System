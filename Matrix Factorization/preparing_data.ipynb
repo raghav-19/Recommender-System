{
 "cells": [
  {
   "cell_type": "code",
   "execution_count": 1,
   "id": "0fa6e2b4-3bc6-4bab-9d19-687c62e68547",
   "metadata": {
    "tags": []
   },
   "outputs": [],
   "source": [
    "import pandas as pd\n",
    "import numpy as np"
   ]
  },
  {
   "cell_type": "code",
   "execution_count": 2,
   "id": "bc02703e-fc4a-4002-be91-c1470f719ee8",
   "metadata": {
    "tags": []
   },
   "outputs": [],
   "source": [
    "# !wget -nc https://files.grouplens.org/datasets/movielens/ml-20m.zip\n",
    "# !unzip -n ml-20m.zip"
   ]
  },
  {
   "cell_type": "code",
   "execution_count": 3,
   "id": "8965235d-69cc-421a-89db-2a77c68f01fe",
   "metadata": {
    "tags": []
   },
   "outputs": [
    {
     "data": {
      "text/html": [
       "<div>\n",
       "<style scoped>\n",
       "    .dataframe tbody tr th:only-of-type {\n",
       "        vertical-align: middle;\n",
       "    }\n",
       "\n",
       "    .dataframe tbody tr th {\n",
       "        vertical-align: top;\n",
       "    }\n",
       "\n",
       "    .dataframe thead th {\n",
       "        text-align: right;\n",
       "    }\n",
       "</style>\n",
       "<table border=\"1\" class=\"dataframe\">\n",
       "  <thead>\n",
       "    <tr style=\"text-align: right;\">\n",
       "      <th></th>\n",
       "      <th>userId</th>\n",
       "      <th>movieId</th>\n",
       "      <th>rating</th>\n",
       "    </tr>\n",
       "  </thead>\n",
       "  <tbody>\n",
       "    <tr>\n",
       "      <th>0</th>\n",
       "      <td>1</td>\n",
       "      <td>2</td>\n",
       "      <td>3.5</td>\n",
       "    </tr>\n",
       "    <tr>\n",
       "      <th>1</th>\n",
       "      <td>1</td>\n",
       "      <td>29</td>\n",
       "      <td>3.5</td>\n",
       "    </tr>\n",
       "    <tr>\n",
       "      <th>2</th>\n",
       "      <td>1</td>\n",
       "      <td>32</td>\n",
       "      <td>3.5</td>\n",
       "    </tr>\n",
       "    <tr>\n",
       "      <th>3</th>\n",
       "      <td>1</td>\n",
       "      <td>47</td>\n",
       "      <td>3.5</td>\n",
       "    </tr>\n",
       "    <tr>\n",
       "      <th>4</th>\n",
       "      <td>1</td>\n",
       "      <td>50</td>\n",
       "      <td>3.5</td>\n",
       "    </tr>\n",
       "  </tbody>\n",
       "</table>\n",
       "</div>"
      ],
      "text/plain": [
       "   userId  movieId  rating\n",
       "0       1        2     3.5\n",
       "1       1       29     3.5\n",
       "2       1       32     3.5\n",
       "3       1       47     3.5\n",
       "4       1       50     3.5"
      ]
     },
     "execution_count": 3,
     "metadata": {},
     "output_type": "execute_result"
    }
   ],
   "source": [
    "df = pd.read_csv('ml-20m/ratings.csv')\n",
    "df.drop(columns=['timestamp'],inplace=True)\n",
    "df.head()"
   ]
  },
  {
   "cell_type": "code",
   "execution_count": 4,
   "id": "b8f3c1be-21a8-4f4c-a937-c346e60e6a00",
   "metadata": {
    "tags": []
   },
   "outputs": [],
   "source": [
    "topN = 100\n",
    "topM = 50"
   ]
  },
  {
   "cell_type": "code",
   "execution_count": 5,
   "id": "3cb4b1b1-1f07-4c51-9025-cea66533c5cd",
   "metadata": {
    "tags": []
   },
   "outputs": [],
   "source": [
    "users = np.array(df['userId'].value_counts()[1000:1000+topN].index)\n",
    "movies = np.array(df['movieId'].value_counts()[1000:1000+topM].index)\n",
    "df = df[(df['userId'].isin(users)) & (df['movieId'].isin(movies))].copy()"
   ]
  },
  {
   "cell_type": "code",
   "execution_count": 6,
   "id": "fe1a8f29-03b4-4b7b-be26-4d7c41d67019",
   "metadata": {
    "tags": []
   },
   "outputs": [
    {
     "data": {
      "text/html": [
       "<div>\n",
       "<style scoped>\n",
       "    .dataframe tbody tr th:only-of-type {\n",
       "        vertical-align: middle;\n",
       "    }\n",
       "\n",
       "    .dataframe tbody tr th {\n",
       "        vertical-align: top;\n",
       "    }\n",
       "\n",
       "    .dataframe thead th {\n",
       "        text-align: right;\n",
       "    }\n",
       "</style>\n",
       "<table border=\"1\" class=\"dataframe\">\n",
       "  <thead>\n",
       "    <tr style=\"text-align: right;\">\n",
       "      <th></th>\n",
       "      <th>userId</th>\n",
       "      <th>movieId</th>\n",
       "      <th>rating</th>\n",
       "    </tr>\n",
       "  </thead>\n",
       "  <tbody>\n",
       "    <tr>\n",
       "      <th>182583</th>\n",
       "      <td>77</td>\n",
       "      <td>8</td>\n",
       "      <td>3.5</td>\n",
       "    </tr>\n",
       "    <tr>\n",
       "      <th>182630</th>\n",
       "      <td>77</td>\n",
       "      <td>46</td>\n",
       "      <td>3.5</td>\n",
       "    </tr>\n",
       "    <tr>\n",
       "      <th>182749</th>\n",
       "      <td>77</td>\n",
       "      <td>24</td>\n",
       "      <td>2.5</td>\n",
       "    </tr>\n",
       "    <tr>\n",
       "      <th>182823</th>\n",
       "      <td>77</td>\n",
       "      <td>32</td>\n",
       "      <td>3.5</td>\n",
       "    </tr>\n",
       "    <tr>\n",
       "      <th>182864</th>\n",
       "      <td>77</td>\n",
       "      <td>22</td>\n",
       "      <td>3.0</td>\n",
       "    </tr>\n",
       "  </tbody>\n",
       "</table>\n",
       "</div>"
      ],
      "text/plain": [
       "        userId  movieId  rating\n",
       "182583      77        8     3.5\n",
       "182630      77       46     3.5\n",
       "182749      77       24     2.5\n",
       "182823      77       32     3.5\n",
       "182864      77       22     3.0"
      ]
     },
     "execution_count": 6,
     "metadata": {},
     "output_type": "execute_result"
    }
   ],
   "source": [
    "user_map = dict(zip(users, range(topN)))\n",
    "movie_map = dict(zip(movies, range(topM)))\n",
    "df['userId'] = df['userId'].map(user_map)\n",
    "df['movieId'] = df['movieId'].map(movie_map)\n",
    "df.head()"
   ]
  },
  {
   "cell_type": "code",
   "execution_count": 7,
   "id": "03c6c8db-c822-4f3a-83e5-56097e1d0478",
   "metadata": {
    "tags": []
   },
   "outputs": [],
   "source": [
    "df.to_csv('small_filtered_ratings.csv', index=False)"
   ]
  },
  {
   "cell_type": "code",
   "execution_count": null,
   "id": "31205473-4f5d-4532-82b6-68ab018982d9",
   "metadata": {},
   "outputs": [],
   "source": []
  },
  {
   "cell_type": "code",
   "execution_count": null,
   "id": "9458f6c7-6edc-4af8-b53b-4e8f6f40bc9d",
   "metadata": {},
   "outputs": [],
   "source": []
  },
  {
   "cell_type": "code",
   "execution_count": 14,
   "id": "f5d0e73b-e01e-4318-abec-c21400c26867",
   "metadata": {
    "tags": []
   },
   "outputs": [],
   "source": [
    "users = np.array(df['userId'].value_counts()[df['userId'].value_counts()>=50].index)\n",
    "movies = np.array(df['movieId'].value_counts()[df['movieId'].value_counts()>=100].index)\n",
    "df = df[(df['userId'].isin(users)) & (df['movieId'].isin(movies))].copy()"
   ]
  },
  {
   "cell_type": "code",
   "execution_count": 16,
   "id": "632cd2ab-7b98-4f90-97c4-2eac24d2ced2",
   "metadata": {
    "tags": []
   },
   "outputs": [
    {
     "data": {
      "text/html": [
       "<div>\n",
       "<style scoped>\n",
       "    .dataframe tbody tr th:only-of-type {\n",
       "        vertical-align: middle;\n",
       "    }\n",
       "\n",
       "    .dataframe tbody tr th {\n",
       "        vertical-align: top;\n",
       "    }\n",
       "\n",
       "    .dataframe thead th {\n",
       "        text-align: right;\n",
       "    }\n",
       "</style>\n",
       "<table border=\"1\" class=\"dataframe\">\n",
       "  <thead>\n",
       "    <tr style=\"text-align: right;\">\n",
       "      <th></th>\n",
       "      <th>userId</th>\n",
       "      <th>movieId</th>\n",
       "      <th>rating</th>\n",
       "    </tr>\n",
       "  </thead>\n",
       "  <tbody>\n",
       "    <tr>\n",
       "      <th>0</th>\n",
       "      <td>30561</td>\n",
       "      <td>121</td>\n",
       "      <td>3.5</td>\n",
       "    </tr>\n",
       "    <tr>\n",
       "      <th>1</th>\n",
       "      <td>30561</td>\n",
       "      <td>589</td>\n",
       "      <td>3.5</td>\n",
       "    </tr>\n",
       "    <tr>\n",
       "      <th>2</th>\n",
       "      <td>30561</td>\n",
       "      <td>20</td>\n",
       "      <td>3.5</td>\n",
       "    </tr>\n",
       "    <tr>\n",
       "      <th>3</th>\n",
       "      <td>30561</td>\n",
       "      <td>19</td>\n",
       "      <td>3.5</td>\n",
       "    </tr>\n",
       "    <tr>\n",
       "      <th>4</th>\n",
       "      <td>30561</td>\n",
       "      <td>13</td>\n",
       "      <td>3.5</td>\n",
       "    </tr>\n",
       "  </tbody>\n",
       "</table>\n",
       "</div>"
      ],
      "text/plain": [
       "   userId  movieId  rating\n",
       "0   30561      121     3.5\n",
       "1   30561      589     3.5\n",
       "2   30561       20     3.5\n",
       "3   30561       19     3.5\n",
       "4   30561       13     3.5"
      ]
     },
     "execution_count": 16,
     "metadata": {},
     "output_type": "execute_result"
    }
   ],
   "source": [
    "user_map = dict(zip(users, range(len(users))))\n",
    "movie_map = dict(zip(movies, range(len(movies))))\n",
    "df['userId'] = df['userId'].map(user_map)\n",
    "df['movieId'] = df['movieId'].map(movie_map)\n",
    "df.head()"
   ]
  },
  {
   "cell_type": "code",
   "execution_count": 19,
   "id": "92cb3269-2016-4e5c-9f70-1d43ea5be897",
   "metadata": {
    "tags": []
   },
   "outputs": [],
   "source": [
    "df.to_csv('filtered_ratings.csv', index=False)"
   ]
  }
 ],
 "metadata": {
  "kernelspec": {
   "display_name": "Python 3 (ipykernel)",
   "language": "python",
   "name": "python3"
  },
  "language_info": {
   "codemirror_mode": {
    "name": "ipython",
    "version": 3
   },
   "file_extension": ".py",
   "mimetype": "text/x-python",
   "name": "python",
   "nbconvert_exporter": "python",
   "pygments_lexer": "ipython3",
   "version": "3.10.10"
  }
 },
 "nbformat": 4,
 "nbformat_minor": 5
}
