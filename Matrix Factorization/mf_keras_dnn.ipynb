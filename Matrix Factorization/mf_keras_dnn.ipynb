{
 "cells": [
  {
   "cell_type": "code",
   "execution_count": 1,
   "id": "36eef80c-c052-4b9d-b4e7-9ea0e31a0c6f",
   "metadata": {
    "tags": []
   },
   "outputs": [
    {
     "name": "stderr",
     "output_type": "stream",
     "text": [
      "2023-06-16 12:28:46.943726: I tensorflow/tsl/cuda/cudart_stub.cc:28] Could not find cuda drivers on your machine, GPU will not be used.\n",
      "2023-06-16 12:28:47.009873: I tensorflow/tsl/cuda/cudart_stub.cc:28] Could not find cuda drivers on your machine, GPU will not be used.\n",
      "2023-06-16 12:28:47.011175: I tensorflow/core/platform/cpu_feature_guard.cc:182] This TensorFlow binary is optimized to use available CPU instructions in performance-critical operations.\n",
      "To enable the following instructions: AVX2 FMA, in other operations, rebuild TensorFlow with the appropriate compiler flags.\n",
      "2023-06-16 12:28:48.057538: W tensorflow/compiler/tf2tensorrt/utils/py_utils.cc:38] TF-TRT Warning: Could not find TensorRT\n"
     ]
    }
   ],
   "source": [
    "import pandas as pd\n",
    "import numpy as np\n",
    "import matplotlib.pyplot as plt\n",
    "from datetime import datetime\n",
    "from tensorflow.keras.layers import Embedding, Input, Dot, Add, Flatten, Dense, Concatenate\n",
    "from tensorflow.keras.regularizers import l2\n",
    "from tensorflow.keras.optimizers import SGD\n",
    "from tensorflow.keras import Model\n",
    "from sklearn.model_selection import train_test_split"
   ]
  },
  {
   "cell_type": "code",
   "execution_count": 2,
   "id": "bf38e5c8-f581-4d1e-acee-6fc9ac5f542b",
   "metadata": {
    "tags": []
   },
   "outputs": [
    {
     "data": {
      "text/plain": [
       "(85078, 8473)"
      ]
     },
     "execution_count": 2,
     "metadata": {},
     "output_type": "execute_result"
    }
   ],
   "source": [
    "df = pd.read_csv('filtered_ratings.csv')\n",
    "N = df['userId'].nunique()\n",
    "M = df['movieId'].nunique()\n",
    "N, M"
   ]
  },
  {
   "cell_type": "code",
   "execution_count": 3,
   "id": "0d7d040b-1f4c-4027-84d5-086fb4e236cc",
   "metadata": {
    "tags": []
   },
   "outputs": [],
   "source": [
    "train, test = train_test_split(df, test_size=0.2, random_state=0)\n",
    "if train['userId'].nunique()!=N or train['movieId'].nunique()!=M:\n",
    "    print(\"change random state\")"
   ]
  },
  {
   "cell_type": "code",
   "execution_count": 4,
   "id": "f271f9c9-c6f0-44ae-b309-0dcf3fb7b9c6",
   "metadata": {
    "tags": []
   },
   "outputs": [],
   "source": [
    "K = 10\n",
    "reg = 0.1\n",
    "mu = train['rating'].mean()"
   ]
  },
  {
   "cell_type": "code",
   "execution_count": 5,
   "id": "15a083ce-d6ed-4055-a2a7-a5bdd16ae41e",
   "metadata": {
    "tags": []
   },
   "outputs": [],
   "source": [
    "u = Input(shape=(1,))\n",
    "m = Input(shape=(1,))\n",
    "u_embedding = Embedding(N, K, embeddings_regularizer=l2(reg))(u)\n",
    "m_embedding = Embedding(M, K, embeddings_regularizer=l2(reg))(m)\n",
    "u_bias = Embedding(N, 1, embeddings_regularizer=l2(reg))(u)\n",
    "m_bias = Embedding(M, 1, embeddings_regularizer=l2(reg))(m)\n",
    "x = Concatenate(axis=2)([u_embedding, u_bias, m_embedding, m_bias])\n",
    "x = Flatten()(x)\n",
    "x = Dense(100, activation='relu')(x)\n",
    "x = Dense(1)(x)"
   ]
  },
  {
   "cell_type": "code",
   "execution_count": 6,
   "id": "3f24ea1e-a73b-45b1-9480-12292b3f16fd",
   "metadata": {
    "tags": []
   },
   "outputs": [
    {
     "name": "stdout",
     "output_type": "stream",
     "text": [
      "Model: \"model\"\n",
      "__________________________________________________________________________________________________\n",
      " Layer (type)                   Output Shape         Param #     Connected to                     \n",
      "==================================================================================================\n",
      " input_1 (InputLayer)           [(None, 1)]          0           []                               \n",
      "                                                                                                  \n",
      " input_2 (InputLayer)           [(None, 1)]          0           []                               \n",
      "                                                                                                  \n",
      " embedding (Embedding)          (None, 1, 10)        850780      ['input_1[0][0]']                \n",
      "                                                                                                  \n",
      " embedding_2 (Embedding)        (None, 1, 1)         85078       ['input_1[0][0]']                \n",
      "                                                                                                  \n",
      " embedding_1 (Embedding)        (None, 1, 10)        84730       ['input_2[0][0]']                \n",
      "                                                                                                  \n",
      " embedding_3 (Embedding)        (None, 1, 1)         8473        ['input_2[0][0]']                \n",
      "                                                                                                  \n",
      " concatenate (Concatenate)      (None, 1, 22)        0           ['embedding[0][0]',              \n",
      "                                                                  'embedding_2[0][0]',            \n",
      "                                                                  'embedding_1[0][0]',            \n",
      "                                                                  'embedding_3[0][0]']            \n",
      "                                                                                                  \n",
      " flatten (Flatten)              (None, 22)           0           ['concatenate[0][0]']            \n",
      "                                                                                                  \n",
      " dense (Dense)                  (None, 100)          2300        ['flatten[0][0]']                \n",
      "                                                                                                  \n",
      " dense_1 (Dense)                (None, 1)            101         ['dense[0][0]']                  \n",
      "                                                                                                  \n",
      "==================================================================================================\n",
      "Total params: 1,031,462\n",
      "Trainable params: 1,031,462\n",
      "Non-trainable params: 0\n",
      "__________________________________________________________________________________________________\n"
     ]
    }
   ],
   "source": [
    "model = Model(inputs=[u,m], outputs=[x])\n",
    "model.compile(loss='mse', optimizer=SGD(learning_rate=0.02))\n",
    "model.summary()"
   ]
  },
  {
   "cell_type": "code",
   "execution_count": 7,
   "id": "f9a1b67b-e5ed-446d-a7e0-4271eac8cda4",
   "metadata": {
    "tags": []
   },
   "outputs": [
    {
     "name": "stdout",
     "output_type": "stream",
     "text": [
      "Epoch 1/10\n",
      "14088/14088 [==============================] - 101s 7ms/step - loss: 1.8328 - val_loss: 0.9959\n",
      "Epoch 2/10\n",
      "14088/14088 [==============================] - 98s 7ms/step - loss: 0.9626 - val_loss: 0.9648\n",
      "Epoch 3/10\n",
      "14088/14088 [==============================] - 97s 7ms/step - loss: 0.9528 - val_loss: 0.9524\n",
      "Epoch 4/10\n",
      "14088/14088 [==============================] - 98s 7ms/step - loss: 0.9501 - val_loss: 0.9426\n",
      "Epoch 5/10\n",
      "14088/14088 [==============================] - 97s 7ms/step - loss: 0.9521 - val_loss: 0.9447\n",
      "Epoch 6/10\n",
      "14088/14088 [==============================] - 97s 7ms/step - loss: 0.9526 - val_loss: 0.9441\n",
      "Epoch 7/10\n",
      "14088/14088 [==============================] - 97s 7ms/step - loss: 0.9503 - val_loss: 0.9483\n",
      "Epoch 8/10\n",
      "14088/14088 [==============================] - 98s 7ms/step - loss: 0.9500 - val_loss: 0.9501\n",
      "Epoch 9/10\n",
      "14088/14088 [==============================] - 94s 7ms/step - loss: 0.9503 - val_loss: 0.9728\n",
      "Epoch 10/10\n",
      "14088/14088 [==============================] - 93s 7ms/step - loss: 0.9503 - val_loss: 0.9531\n"
     ]
    }
   ],
   "source": [
    "r = model.fit(x = [train.userId.values, train.movieId.values], y = train.rating.values-mu, batch_size=1024, epochs=10, \n",
    "              validation_data=([test.userId.values, test.movieId.values], test.rating.values-mu))"
   ]
  },
  {
   "cell_type": "code",
   "execution_count": 8,
   "id": "714413e9-8d85-4c6f-8355-647b2bdc8459",
   "metadata": {
    "tags": []
   },
   "outputs": [
    {
     "data": {
      "image/png": "[encoded data removed]",
      "text/plain": [
       "<Figure size 640x480 with 1 Axes>"
      ]
     },
     "metadata": {},
     "output_type": "display_data"
    }
   ],
   "source": [
    "plt.plot(r.history['loss'], label='train_loss')\n",
    "plt.plot(r.history['val_loss'], label='test_loss')\n",
    "plt.legend()\n",
    "plt.show()"
   ]
  },
  {
   "cell_type": "code",
   "execution_count": null,
   "id": "660cb86e-7091-4ed0-8d3b-915cb02eaee4",
   "metadata": {},
   "outputs": [],
   "source": []
  }
 ],
 "metadata": {
  "kernelspec": {
   "display_name": "Python 3 (ipykernel)",
   "language": "python",
   "name": "python3"
  },
  "language_info": {
   "codemirror_mode": {
    "name": "ipython",
    "version": 3
   },
   "file_extension": ".py",
   "mimetype": "text/x-python",
   "name": "python",
   "nbconvert_exporter": "python",
   "pygments_lexer": "ipython3",
   "version": "3.10.10"
  }
 },
 "nbformat": 4,
 "nbformat_minor": 5
}
