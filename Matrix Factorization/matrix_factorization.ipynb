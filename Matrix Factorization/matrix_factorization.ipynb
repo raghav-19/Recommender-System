{
 "cells": [
  {
   "cell_type": "code",
   "execution_count": 1,
   "id": "6b9e4c66-84b4-40bd-8947-8137cdd40126",
   "metadata": {
    "tags": []
   },
   "outputs": [],
   "source": [
    "import numpy as np\n",
    "import pandas as pd\n",
    "import matplotlib.pyplot as plt\n",
    "from scipy import sparse\n",
    "from datetime import datetime\n",
    "from sklearn.model_selection import train_test_split\n",
    "from sklearn.metrics import mean_squared_error as mse\n",
    "np.set_printoptions(suppress=True)"
   ]
  },
  {
   "cell_type": "code",
   "execution_count": 2,
   "id": "3fdcabf7-7ed6-4f2b-8d0e-6ae690e25eac",
   "metadata": {
    "tags": []
   },
   "outputs": [
    {
     "data": {
      "text/html": [
       "<div>\n",
       "<style scoped>\n",
       "    .dataframe tbody tr th:only-of-type {\n",
       "        vertical-align: middle;\n",
       "    }\n",
       "\n",
       "    .dataframe tbody tr th {\n",
       "        vertical-align: top;\n",
       "    }\n",
       "\n",
       "    .dataframe thead th {\n",
       "        text-align: right;\n",
       "    }\n",
       "</style>\n",
       "<table border=\"1\" class=\"dataframe\">\n",
       "  <thead>\n",
       "    <tr style=\"text-align: right;\">\n",
       "      <th></th>\n",
       "      <th>userId</th>\n",
       "      <th>movieId</th>\n",
       "      <th>rating</th>\n",
       "    </tr>\n",
       "  </thead>\n",
       "  <tbody>\n",
       "    <tr>\n",
       "      <th>0</th>\n",
       "      <td>30561</td>\n",
       "      <td>121</td>\n",
       "      <td>3.5</td>\n",
       "    </tr>\n",
       "    <tr>\n",
       "      <th>1</th>\n",
       "      <td>30561</td>\n",
       "      <td>589</td>\n",
       "      <td>3.5</td>\n",
       "    </tr>\n",
       "    <tr>\n",
       "      <th>2</th>\n",
       "      <td>30561</td>\n",
       "      <td>20</td>\n",
       "      <td>3.5</td>\n",
       "    </tr>\n",
       "    <tr>\n",
       "      <th>3</th>\n",
       "      <td>30561</td>\n",
       "      <td>19</td>\n",
       "      <td>3.5</td>\n",
       "    </tr>\n",
       "    <tr>\n",
       "      <th>4</th>\n",
       "      <td>30561</td>\n",
       "      <td>13</td>\n",
       "      <td>3.5</td>\n",
       "    </tr>\n",
       "  </tbody>\n",
       "</table>\n",
       "</div>"
      ],
      "text/plain": [
       "   userId  movieId  rating\n",
       "0   30561      121     3.5\n",
       "1   30561      589     3.5\n",
       "2   30561       20     3.5\n",
       "3   30561       19     3.5\n",
       "4   30561       13     3.5"
      ]
     },
     "execution_count": 2,
     "metadata": {},
     "output_type": "execute_result"
    }
   ],
   "source": [
    "df = pd.read_csv('filtered_ratings.csv')\n",
    "df.head()"
   ]
  },
  {
   "cell_type": "code",
   "execution_count": 3,
   "id": "61fae8ed-ea04-4fa1-9c16-0c1a26fbcbca",
   "metadata": {
    "tags": []
   },
   "outputs": [],
   "source": [
    "N = df['userId'].nunique()\n",
    "M = df['movieId'].nunique()"
   ]
  },
  {
   "cell_type": "code",
   "execution_count": 4,
   "id": "5e505fdd-e351-4828-a133-13c13f65beda",
   "metadata": {
    "tags": []
   },
   "outputs": [],
   "source": [
    "train, test = train_test_split(df, test_size=0.2, random_state=0)\n",
    "X_train = np.array(train.iloc[:,0:2].values, dtype='int64')\n",
    "y_train = train.iloc[:,2].values\n",
    "X_test = np.array(test.iloc[:,0:2].values, dtype='int64')\n",
    "y_test = test.iloc[:,2].values\n",
    "if train['userId'].nunique()!=N or train['movieId'].nunique()!=M:\n",
    "    print(\"change random state\")"
   ]
  },
  {
   "cell_type": "code",
   "execution_count": 5,
   "id": "9e50a690-3bba-4f3f-b250-50bcdcab40db",
   "metadata": {
    "tags": []
   },
   "outputs": [],
   "source": [
    "userids = np.array(train['userId'])\n",
    "itemids = np.array(train['movieId'])\n",
    "ratings = np.array(train['rating'])\n",
    "csr_df = sparse.csr_matrix((ratings, (userids, itemids)), shape=(N,M))\n",
    "csc_df = sparse.csc_matrix((ratings, (userids, itemids)), shape=(N,M))"
   ]
  },
  {
   "cell_type": "code",
   "execution_count": 6,
   "id": "554dc7af-b304-47cf-a774-26bd3f296a55",
   "metadata": {
    "tags": []
   },
   "outputs": [],
   "source": [
    "K = 10  #latent dimension\n",
    "W = np.random.rand(N, K)  #User feature Matrix\n",
    "U = np.random.rand(M, K)  #Item feature Matrix\n",
    "B = np.random.rand(N)     #User bias\n",
    "C = np.random.rand(M)     #Item bias\n",
    "g = ratings.mean()        #average rating on training dataset"
   ]
  },
  {
   "cell_type": "code",
   "execution_count": 7,
   "id": "2a568f7b-2e20-45d1-ab9b-8bed4ed754c4",
   "metadata": {
    "tags": []
   },
   "outputs": [],
   "source": [
    "def single_pred(i, j):\n",
    "    return np.dot(W[i],U[j])+B[i]+C[j]+g"
   ]
  },
  {
   "cell_type": "code",
   "execution_count": 8,
   "id": "8d2ae3df-beca-4fff-8feb-482c1025a515",
   "metadata": {
    "tags": []
   },
   "outputs": [
    {
     "name": "stdout",
     "output_type": "stream",
     "text": [
      "Starting 2023-06-15 18:00:56.335357\n",
      "2023-06-15 18:02:05.714268 1 0.7184174129695878 0.8166448563295918\n",
      "2023-06-15 18:03:16.243623 2 0.6123572008080563 0.723462927744722\n",
      "2023-06-15 18:04:25.596299 3 0.5640526937603646 0.6726344882283687\n",
      "2023-06-15 18:05:37.589351 4 0.5438194207543064 0.6509580880025989\n",
      "2023-06-15 18:06:48.254535 5 0.5345833328828674 0.6402147551858242\n",
      "2023-06-15 18:07:59.980378 6 0.5288719926730628 0.6328363100582269\n",
      "2023-06-15 18:09:12.583502 7 0.524891731680508 0.62731255720649\n",
      "2023-06-15 18:10:24.224120 8 0.5220986166318958 0.6232832304004254\n",
      "2023-06-15 18:11:34.460850 9 0.5201536296498556 0.6204281831688373\n",
      "2023-06-15 18:12:46.256100 10 0.5187758996588208 0.6184267273590731\n",
      "2023-06-15 18:13:57.264908 11 0.5177629124724772 0.6170157343596495\n",
      "2023-06-15 18:15:08.466567 12 0.5169853134722618 0.6159992224134475\n",
      "2023-06-15 18:16:20.193183 13 0.5163640033273493 0.6152385717717244\n",
      "2023-06-15 18:17:31.925842 14 0.5158500600802525 0.6146446547641907\n",
      "2023-06-15 18:18:44.543634 15 0.5154125035324106 0.6141634833685198\n"
     ]
    }
   ],
   "source": [
    "epochs = 15\n",
    "train_loss, test_loss = [], []\n",
    "print(\"Starting\", datetime.now())\n",
    "for epoch in range(epochs):\n",
    "    for i in range(N):\n",
    "        try:\n",
    "            items = csr_df.getrow(i).indices\n",
    "            u = U[items,:].reshape(-1, K, 1)\n",
    "            a = np.sum(np.matmul(u, np.transpose(u, axes=[0,2,1])), 0)\n",
    "            b = np.sum(np.multiply(U[items,:], (csr_df.getrow(i).data-B[i]-C[items]-g).reshape(-1, 1)), 0)\n",
    "            W[i] = np.linalg.solve(a,b)\n",
    "        except :\n",
    "            continue\n",
    "    for i in range(N):\n",
    "        items = csr_df.getrow(i).indices\n",
    "        B[i] = np.sum(csr_df.getrow(i).data-np.matmul(U[items,:], W[i])-C[items]-g)/float(csr_df.getrow(i).nnz)\n",
    "    for j in range(M):\n",
    "        try:\n",
    "            users = csc_df.getcol(j).indices\n",
    "            w = W[users,:].reshape(-1, K, 1)\n",
    "            a = np.sum(np.matmul(w, np.transpose(w, axes=[0,2,1])), 0)\n",
    "            b = np.sum(np.multiply(W[users,:], (csc_df.getcol(j).data-B[users]-C[j]-g).reshape(-1, 1)), 0)\n",
    "            U[j] = np.linalg.solve(a,b)\n",
    "        except:\n",
    "            continue\n",
    "    for j in range(M):\n",
    "        users = csc_df.getcol(j).indices\n",
    "        C[j] = np.sum(csc_df.getcol(j).data-np.matmul(W[users,:], U[j])-B[users]-g)/float(csc_df.getcol(j).nnz)\n",
    "    \n",
    "    train_loss.append(mse(y_train, np.sum(W[X_train[:,0]]*U[X_train[:,1]], axis=1)+B[X_train[:,0]]+C[X_train[:,1]]+g))\n",
    "    test_loss.append(mse(y_test, np.sum(W[X_test[:,0]]*U[X_test[:,1]], axis=1)+B[X_test[:,0]]+C[X_test[:,1]]+g))\n",
    "    print(datetime.now(), epoch+1, train_loss[-1], test_loss[-1])"
   ]
  },
  {
   "cell_type": "code",
   "execution_count": 9,
   "id": "d9ba74e2-91d9-4429-89bc-fa1506697860",
   "metadata": {
    "tags": []
   },
   "outputs": [
    {
     "data": {
      "image/png": "[encoded data removed]",
      "text/plain": [
       "<Figure size 640x480 with 1 Axes>"
      ]
     },
     "metadata": {},
     "output_type": "display_data"
    }
   ],
   "source": [
    "plt.plot(train_loss, label='train_loss')\n",
    "plt.plot(test_loss, label='test_loss')\n",
    "plt.legend()\n",
    "plt.show()"
   ]
  },
  {
   "cell_type": "code",
   "execution_count": null,
   "id": "ec146d74-5e0a-4f82-b81c-e79ff8642a96",
   "metadata": {},
   "outputs": [],
   "source": []
  }
 ],
 "metadata": {
  "kernelspec": {
   "display_name": "Python 3 (ipykernel)",
   "language": "python",
   "name": "python3"
  },
  "language_info": {
   "codemirror_mode": {
    "name": "ipython",
    "version": 3
   },
   "file_extension": ".py",
   "mimetype": "text/x-python",
   "name": "python",
   "nbconvert_exporter": "python",
   "pygments_lexer": "ipython3",
   "version": "3.10.10"
  }
 },
 "nbformat": 4,
 "nbformat_minor": 5
}
