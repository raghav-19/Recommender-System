{
 "cells": [
  {
   "cell_type": "code",
   "execution_count": 1,
   "metadata": {},
   "outputs": [],
   "source": [
    "# !pip install --upgrade pip --quiet\n",
    "# !pip install numpy --quiet\n",
    "# !pip install pandas --quiet\n",
    "# !pip install matplotlib --quiet\n",
    "# !pip install scipy --quiet"
   ]
  },
  {
   "cell_type": "code",
   "execution_count": 2,
   "metadata": {},
   "outputs": [],
   "source": [
    "import numpy as np\n",
    "import pandas as pd\n",
    "import scipy.sparse as sparse\n",
    "import timeit\n",
    "import torch"
   ]
  },
  {
   "cell_type": "code",
   "execution_count": 3,
   "metadata": {},
   "outputs": [],
   "source": [
    "# !wget -nc https://files.grouplens.org/datasets/movielens/ml-20m.zip\n",
    "# !unzip -n ml-20m.zip"
   ]
  },
  {
   "cell_type": "code",
   "execution_count": 3,
   "metadata": {},
   "outputs": [
    {
     "name": "stdout",
     "output_type": "stream",
     "text": [
      "(20000263, 4)\n"
     ]
    },
    {
     "data": {
      "text/html": [
       "<div>\n",
       "<style scoped>\n",
       "    .dataframe tbody tr th:only-of-type {\n",
       "        vertical-align: middle;\n",
       "    }\n",
       "\n",
       "    .dataframe tbody tr th {\n",
       "        vertical-align: top;\n",
       "    }\n",
       "\n",
       "    .dataframe thead th {\n",
       "        text-align: right;\n",
       "    }\n",
       "</style>\n",
       "<table border=\"1\" class=\"dataframe\">\n",
       "  <thead>\n",
       "    <tr style=\"text-align: right;\">\n",
       "      <th></th>\n",
       "      <th>userId</th>\n",
       "      <th>movieId</th>\n",
       "      <th>rating</th>\n",
       "      <th>timestamp</th>\n",
       "    </tr>\n",
       "  </thead>\n",
       "  <tbody>\n",
       "    <tr>\n",
       "      <th>0</th>\n",
       "      <td>1</td>\n",
       "      <td>2</td>\n",
       "      <td>3.5</td>\n",
       "      <td>1112486027</td>\n",
       "    </tr>\n",
       "    <tr>\n",
       "      <th>1</th>\n",
       "      <td>1</td>\n",
       "      <td>29</td>\n",
       "      <td>3.5</td>\n",
       "      <td>1112484676</td>\n",
       "    </tr>\n",
       "    <tr>\n",
       "      <th>2</th>\n",
       "      <td>1</td>\n",
       "      <td>32</td>\n",
       "      <td>3.5</td>\n",
       "      <td>1112484819</td>\n",
       "    </tr>\n",
       "    <tr>\n",
       "      <th>3</th>\n",
       "      <td>1</td>\n",
       "      <td>47</td>\n",
       "      <td>3.5</td>\n",
       "      <td>1112484727</td>\n",
       "    </tr>\n",
       "    <tr>\n",
       "      <th>4</th>\n",
       "      <td>1</td>\n",
       "      <td>50</td>\n",
       "      <td>3.5</td>\n",
       "      <td>1112484580</td>\n",
       "    </tr>\n",
       "  </tbody>\n",
       "</table>\n",
       "</div>"
      ],
      "text/plain": [
       "   userId  movieId  rating   timestamp\n",
       "0       1        2     3.5  1112486027\n",
       "1       1       29     3.5  1112484676\n",
       "2       1       32     3.5  1112484819\n",
       "3       1       47     3.5  1112484727\n",
       "4       1       50     3.5  1112484580"
      ]
     },
     "execution_count": 3,
     "metadata": {},
     "output_type": "execute_result"
    }
   ],
   "source": [
    "df = pd.read_csv('ml-20m/ratings.csv')\n",
    "print(df.shape)\n",
    "df.head()"
   ]
  },
  {
   "cell_type": "code",
   "execution_count": 78,
   "metadata": {},
   "outputs": [
    {
     "name": "stdout",
     "output_type": "stream",
     "text": [
      "[1 5 5 2 2 5 2 1 4 3 1 2 4 1 5 4 5 3 5 1 2 2 1 1 3]\n"
     ]
    }
   ],
   "source": [
    "def make_csr(n,N):\n",
    "    x = np.random.choice(N,n)\n",
    "    y = np.random.choice(N,n)\n",
    "    z = np.random.choice(5,n)+1\n",
    "    print(z)\n",
    "    return sparse.csr_matrix((z, (x,y)), shape=(N,N))\n",
    "n_rows = 10\n",
    "A = make_csr(25, n_rows)"
   ]
  },
  {
   "cell_type": "code",
   "execution_count": 79,
   "metadata": {},
   "outputs": [
    {
     "data": {
      "text/plain": [
       "array([[0, 0, 0, 1, 0, 0, 0, 0, 0, 0],\n",
       "       [0, 0, 0, 2, 0, 6, 0, 0, 0, 7],\n",
       "       [0, 1, 0, 2, 0, 5, 0, 2, 0, 0],\n",
       "       [0, 1, 1, 0, 0, 0, 0, 0, 0, 0],\n",
       "       [0, 0, 0, 0, 0, 4, 3, 0, 0, 0],\n",
       "       [0, 0, 0, 0, 0, 0, 0, 5, 0, 0],\n",
       "       [0, 0, 1, 0, 3, 0, 0, 0, 0, 0],\n",
       "       [5, 5, 0, 0, 3, 1, 2, 0, 0, 0],\n",
       "       [0, 0, 4, 0, 1, 0, 0, 0, 0, 0],\n",
       "       [0, 0, 0, 0, 0, 0, 5, 0, 0, 0]])"
      ]
     },
     "execution_count": 79,
     "metadata": {},
     "output_type": "execute_result"
    }
   ],
   "source": [
    "A.toarray()"
   ]
  },
  {
   "cell_type": "code",
   "execution_count": 7,
   "metadata": {},
   "outputs": [],
   "source": [
    "def method_1():\n",
    "    u = np.random.randint(n_rows)\n",
    "    user_row = A.getrow(u).indices\n",
    "    user_data = A.getrow(u).data\n",
    "    user_nnz = A.getrow(u).nnz\n",
    "    for v in range(n_rows):\n",
    "        count = A.getrow(v).nnz\n",
    "        if count<10:\n",
    "            continue\n",
    "        row = A.getrow(v).indices\n",
    "        data = A.getrow(v).data\n",
    "        i, j = 0, 0\n",
    "        a2, b2, ab, c = 0, 0, 0, 0\n",
    "        while i<user_nnz and j<count:\n",
    "            if user_row[i]==row[j]:\n",
    "                a, b = user_data[i], data[j]\n",
    "                a2+=(a*a); b2+=(b*b); ab+=(a*b); c+=1;\n",
    "                i+=1; j+=1;\n",
    "            elif user_row[i]<row[j]:\n",
    "                i+=1;\n",
    "            elif user_row[i]>row[j]:\n",
    "                j+=1;"
   ]
  },
  {
   "cell_type": "code",
   "execution_count": 28,
   "metadata": {},
   "outputs": [],
   "source": [
    "def method_2():\n",
    "    ind = np.random.randint(n_rows)\n",
    "    user = A.getrow(ind)\n",
    "    user2 = user.power(2)\n",
    "    for u in range(n_rows):\n",
    "        row = A.getrow(u)\n",
    "        ab = user.multiply(row)\n",
    "        if ab.nnz<10:\n",
    "            continue\n",
    "        flag=(ab!=0)\n",
    "        a2 = user2.multiply(flag)\n",
    "        b2 = row.power(2).multiply(flag)\n",
    "        sim = ab.sum()/np.sqrt(user2.multiply(flag).sum()*row.power(2).multiply(flag).sum())"
   ]
  },
  {
   "cell_type": "code",
   "execution_count": 12,
   "metadata": {},
   "outputs": [],
   "source": [
    "a = A.getrow(0)\n",
    "b = A.getrow(2)\n",
    "ab = a.multiply(b)\n",
    "flag = (ab!=0)\n",
    "a2 = a.power(2).multiply(flag)\n",
    "b2 = b.power(2).multiply(flag)"
   ]
  },
  {
   "cell_type": "code",
   "execution_count": 27,
   "metadata": {
    "collapsed": true,
    "jupyter": {
     "outputs_hidden": true
    }
   },
   "outputs": [
    {
     "data": {
      "text/plain": [
       "(array([4, 3, 3, 1, 4, 2, 5, 3, 2, 2, 5, 1, 5, 4, 3, 1, 1, 4, 4, 3, 5, 4,\n",
       "        4, 1, 1, 2, 3, 4, 2, 1, 4, 2, 4, 4, 4, 3, 3, 2, 1, 4, 3, 3, 3, 1,\n",
       "        3, 2, 2, 3, 1, 5, 1, 3, 3, 5, 1, 3, 1, 1, 2, 5, 1, 1, 1, 2, 4, 2,\n",
       "        3, 1, 5, 4, 3, 1, 4, 2, 4, 1, 4, 3, 2, 1, 2, 5, 2, 2, 5, 3, 1, 2,\n",
       "        1, 4, 1, 5, 5, 5, 5, 4, 3, 1, 3, 3, 1, 2, 1, 4, 2, 3, 4, 3, 1, 5,\n",
       "        5, 5, 2, 2, 4, 5, 3, 1, 3, 1, 4, 5, 5, 2, 1, 3, 4, 5, 2, 4, 3, 5,\n",
       "        3, 3, 2, 4, 2, 3, 5, 4, 3, 5, 3, 3, 3, 3, 4, 4, 1, 1, 4, 4, 4, 5,\n",
       "        2, 3, 2, 3, 5, 2, 3, 5, 4, 5, 1, 3, 2, 3, 1, 2, 1, 1, 3, 4, 1, 4,\n",
       "        1, 2, 1, 1, 2, 1, 2, 2, 5, 1, 2, 4, 3, 1, 2, 5, 5, 3, 1, 1, 4, 1,\n",
       "        1, 4, 3, 2, 2, 3, 3, 2, 2, 1, 5]),\n",
       " array([  315,   491,   507,   577,  1856,  2062,  3436,  3537,  4817,\n",
       "         5093,  5195,  5485,  5737,  5893,  6081,  6186,  6462,  6687,\n",
       "         7032,  7518,  7641,  7778,  8051,  9421,  9533,  9713, 10244,\n",
       "        10285, 10648, 10709, 11879, 12266, 12441, 12625, 14093, 15294,\n",
       "        18319, 18611, 19111, 19167, 19168, 19844, 20648, 21437, 22387,\n",
       "        23856, 24012, 25220, 25507, 26233, 26329, 26806, 27446, 27652,\n",
       "        27858, 28370, 28597, 28746, 28935, 29428, 29915, 30321, 31025,\n",
       "        31177, 31722, 33387, 33388, 33498, 33745, 33883, 34170, 34961,\n",
       "        35783, 36021, 36067, 37739, 38197, 38469, 38781, 38822, 38992,\n",
       "        39020, 39878, 40158, 40540, 40587, 41440, 41530, 41887, 42224,\n",
       "        42303, 42925, 42991, 44371, 44762, 44772, 45033, 45189, 45271,\n",
       "        46234, 46480, 46668, 47929, 48305, 48732, 48847, 49067, 49312,\n",
       "        49883, 50085, 51286, 51310, 51572, 53284, 53850, 54289, 55006,\n",
       "        55336, 55757, 56114, 56439, 57498, 57932, 58619, 58990, 59602,\n",
       "        59730, 59861, 60450, 61017, 62739, 62842, 63284, 63329, 63504,\n",
       "        64109, 64268, 65136, 65403, 65636, 66380, 66566, 67616, 67845,\n",
       "        68647, 68913, 69841, 70135, 72125, 72436, 72562, 73008, 74084,\n",
       "        74147, 74401, 74484, 74590, 74660, 75516, 75716, 75772, 75938,\n",
       "        75985, 76189, 76348, 76397, 76419, 76456, 76615, 77451, 78713,\n",
       "        79141, 80386, 80926, 81102, 81136, 82309, 82580, 83119, 83275,\n",
       "        84611, 85288, 85858, 86045, 88115, 88146, 89675, 90111, 91574,\n",
       "        93107, 93527, 93733, 93870, 93977, 94700, 95310, 95533, 95696,\n",
       "        96466, 96544, 96770, 96813, 96967, 97128, 97233, 97254, 97296,\n",
       "        97446, 97561], dtype=int32))"
      ]
     },
     "execution_count": 27,
     "metadata": {},
     "output_type": "execute_result"
    }
   ],
   "source": [
    "a.data, a.indices"
   ]
  },
  {
   "cell_type": "code",
   "execution_count": 14,
   "metadata": {
    "collapsed": true,
    "jupyter": {
     "outputs_hidden": true
    }
   },
   "outputs": [
    {
     "data": {
      "text/plain": [
       "(array([5, 4, 1, 3, 5, 1, 4, 5, 1, 1, 5, 2, 3, 4, 1, 1, 5, 1, 5, 4, 5, 1,\n",
       "        2, 1, 4, 3, 1, 3, 2, 4, 4, 4, 4, 4, 3, 2, 3, 9, 3, 3, 3, 4, 1, 5,\n",
       "        5, 2, 2, 3, 2, 1, 3, 5, 5, 4, 5, 5, 4, 1, 4, 3, 2, 2, 3, 2, 3, 2,\n",
       "        1, 5, 4, 1, 4, 2, 3, 2, 5, 1, 4, 2, 3, 5, 3, 3, 5, 4, 4, 3, 4, 2,\n",
       "        3, 3, 1, 4, 3, 5, 4, 5, 1, 3, 5, 2, 4, 1, 4, 4, 2, 2, 3, 2, 1, 4,\n",
       "        1, 3, 3, 3, 3, 1, 2, 3, 3, 1, 2, 3, 5, 3, 4, 2, 2, 1, 4, 5, 5, 4,\n",
       "        4, 4, 5, 4, 4, 4, 1, 5, 1, 3, 1, 4, 1, 4, 1, 3, 4, 3, 1, 2, 3, 5,\n",
       "        3, 1, 3, 2, 3, 4, 3, 2, 4, 1, 5, 3, 5, 5, 2, 1, 2, 3, 4, 5, 5, 1,\n",
       "        2, 2, 3, 3, 2, 3, 5, 4, 5, 1, 4, 4, 2, 2, 4, 5, 2, 5, 2, 4, 2, 1,\n",
       "        3, 3, 1, 1, 2, 4, 4, 1, 4, 3, 1, 1]),\n",
       " array([  133,   148,   840,   871,  1099,  1669,  1703,  2083,  2101,\n",
       "         2581,  2705,  3477,  3696,  5162,  5206,  5631,  6070,  6073,\n",
       "         6104,  6276,  6315,  7239,  7845,  7966,  8079,  8163,  8765,\n",
       "         9733, 10327, 10434, 11175, 13452, 13529, 13822, 13833, 13943,\n",
       "        14703, 15329, 15396, 16060, 17847, 18449, 19629, 20480, 21821,\n",
       "        22891, 23725, 23938, 24570, 24648, 24941, 25360, 25512, 27355,\n",
       "        28065, 28295, 28652, 28791, 29587, 29731, 29749, 29842, 30945,\n",
       "        31874, 32078, 32320, 32348, 32451, 32654, 33199, 33261, 35038,\n",
       "        35361, 35471, 35738, 36343, 36667, 37160, 37946, 37999, 38282,\n",
       "        38416, 38581, 39001, 39488, 39870, 40256, 40573, 41691, 42866,\n",
       "        42943, 42994, 43314, 43834, 44375, 44386, 46126, 46989, 47931,\n",
       "        48277, 48642, 48887, 49144, 49662, 50035, 50230, 50524, 51002,\n",
       "        51701, 52007, 52285, 52350, 53788, 54030, 54327, 54440, 54643,\n",
       "        55091, 56406, 56512, 56703, 57014, 59201, 59477, 59848, 60324,\n",
       "        61755, 62348, 63156, 64144, 64381, 64471, 65614, 65687, 65815,\n",
       "        65957, 66224, 66485, 66542, 66618, 66989, 67235, 67363, 67530,\n",
       "        67672, 67783, 67787, 67838, 67961, 68197, 68282, 68315, 68526,\n",
       "        69111, 71392, 71862, 71904, 72037, 72558, 72659, 72733, 76390,\n",
       "        76858, 77117, 78038, 78257, 78691, 80945, 82271, 83142, 83972,\n",
       "        84598, 84764, 85145, 85190, 85507, 85649, 86422, 86519, 87378,\n",
       "        87539, 88134, 88180, 89399, 89927, 89946, 90892, 91781, 92029,\n",
       "        92117, 92123, 92150, 92285, 92678, 92883, 93375, 93803, 94212,\n",
       "        94254, 94488, 95124, 95347, 97313, 97502, 97533, 98177, 98466,\n",
       "        99184, 99208, 99275], dtype=int32))"
      ]
     },
     "execution_count": 14,
     "metadata": {},
     "output_type": "execute_result"
    }
   ],
   "source": [
    "b.data, b.indices"
   ]
  },
  {
   "cell_type": "code",
   "execution_count": 15,
   "metadata": {},
   "outputs": [
    {
     "data": {
      "text/plain": [
       "(array([], dtype=int64), array([], dtype=int32))"
      ]
     },
     "execution_count": 15,
     "metadata": {},
     "output_type": "execute_result"
    }
   ],
   "source": [
    "ab.data, ab.indices"
   ]
  },
  {
   "cell_type": "code",
   "execution_count": 16,
   "metadata": {},
   "outputs": [
    {
     "data": {
      "text/plain": [
       "(array([], dtype=bool), array([], dtype=int32))"
      ]
     },
     "execution_count": 16,
     "metadata": {},
     "output_type": "execute_result"
    }
   ],
   "source": [
    "flag.data, flag.indices"
   ]
  },
  {
   "cell_type": "code",
   "execution_count": 17,
   "metadata": {},
   "outputs": [
    {
     "data": {
      "text/plain": [
       "(array([], dtype=int64), array([], dtype=int32))"
      ]
     },
     "execution_count": 17,
     "metadata": {},
     "output_type": "execute_result"
    }
   ],
   "source": [
    "a2.data, a2.indices"
   ]
  },
  {
   "cell_type": "code",
   "execution_count": 18,
   "metadata": {},
   "outputs": [
    {
     "data": {
      "text/plain": [
       "(array([], dtype=int64), array([], dtype=int32))"
      ]
     },
     "execution_count": 18,
     "metadata": {},
     "output_type": "execute_result"
    }
   ],
   "source": [
    "b2.data, b2.indices"
   ]
  },
  {
   "cell_type": "code",
   "execution_count": 19,
   "metadata": {},
   "outputs": [
    {
     "name": "stderr",
     "output_type": "stream",
     "text": [
      "/tmp/ipykernel_536/308889532.py:1: RuntimeWarning: invalid value encountered in scalar divide\n",
      "  ab.sum()/np.sqrt(a2.sum()*b2.sum())\n"
     ]
    },
    {
     "data": {
      "text/plain": [
       "nan"
      ]
     },
     "execution_count": 19,
     "metadata": {},
     "output_type": "execute_result"
    }
   ],
   "source": [
    "ab.sum()/np.sqrt(a2.sum()*b2.sum())"
   ]
  },
  {
   "cell_type": "code",
   "execution_count": 20,
   "metadata": {},
   "outputs": [
    {
     "data": {
      "text/plain": [
       "0"
      ]
     },
     "execution_count": 20,
     "metadata": {},
     "output_type": "execute_result"
    }
   ],
   "source": [
    "a2.sum()"
   ]
  },
  {
   "cell_type": "code",
   "execution_count": 21,
   "metadata": {},
   "outputs": [
    {
     "data": {
      "text/plain": [
       "311.2983330099996"
      ]
     },
     "execution_count": 21,
     "metadata": {},
     "output_type": "execute_result"
    }
   ],
   "source": [
    "timeit.timeit(lambda : method_1(), number=10)"
   ]
  },
  {
   "cell_type": "code",
   "execution_count": 22,
   "metadata": {},
   "outputs": [
    {
     "data": {
      "text/plain": [
       "135.8911202220006"
      ]
     },
     "execution_count": 22,
     "metadata": {},
     "output_type": "execute_result"
    }
   ],
   "source": [
    "timeit.timeit(lambda : method_2(), number=10)"
   ]
  },
  {
   "cell_type": "code",
   "execution_count": 32,
   "metadata": {},
   "outputs": [
    {
     "data": {
      "text/plain": [
       "138.38761830500152"
      ]
     },
     "execution_count": 32,
     "metadata": {},
     "output_type": "execute_result"
    }
   ],
   "source": [
    "timeit.timeit(lambda : method_2(), number=10)"
   ]
  },
  {
   "cell_type": "code",
   "execution_count": 23,
   "metadata": {},
   "outputs": [
    {
     "data": {
      "text/plain": [
       "135.76580635199934"
      ]
     },
     "execution_count": 23,
     "metadata": {},
     "output_type": "execute_result"
    }
   ],
   "source": [
    "timeit.timeit(lambda : method_3(), number=10)"
   ]
  },
  {
   "cell_type": "code",
   "execution_count": 24,
   "metadata": {},
   "outputs": [
    {
     "data": {
      "text/plain": [
       "172.20552004799902"
      ]
     },
     "execution_count": 24,
     "metadata": {},
     "output_type": "execute_result"
    }
   ],
   "source": [
    "timeit.timeit(lambda : method_4(), number=10)"
   ]
  },
  {
   "cell_type": "code",
   "execution_count": 25,
   "metadata": {},
   "outputs": [],
   "source": [
    "def test():\n",
    "    r = np.random.randint(100000)\n",
    "    for i in A.getrow(r).indices:\n",
    "        x=i"
   ]
  },
  {
   "cell_type": "code",
   "execution_count": 26,
   "metadata": {},
   "outputs": [
    {
     "name": "stdout",
     "output_type": "stream",
     "text": [
      "52.6 µs ± 790 ns per loop (mean ± std. dev. of 7 runs, 10,000 loops each)\n"
     ]
    }
   ],
   "source": [
    "%%timeit\n",
    "test()"
   ]
  }
 ],
 "metadata": {
  "instance_type": "ml.m5.4xlarge",
  "kernelspec": {
   "display_name": "Python 3 (Base Python 3.0)",
   "language": "python",
   "name": "python3__SAGEMAKER_INTERNAL__arn:aws:sagemaker:us-east-2:429704687514:image/sagemaker-base-python-310-v1"
  },
  "language_info": {
   "codemirror_mode": {
    "name": "ipython",
    "version": 3
   },
   "file_extension": ".py",
   "mimetype": "text/x-python",
   "name": "python",
   "nbconvert_exporter": "python",
   "pygments_lexer": "ipython3",
   "version": "3.10.8"
  }
 },
 "nbformat": 4,
 "nbformat_minor": 4
}
