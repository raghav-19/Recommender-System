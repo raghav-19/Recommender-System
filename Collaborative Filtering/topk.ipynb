{
 "cells": [
  {
   "cell_type": "markdown",
   "metadata": {},
   "source": [
    "# Sorted List"
   ]
  },
  {
   "cell_type": "code",
   "execution_count": 2,
   "metadata": {},
   "outputs": [
    {
     "name": "stdout",
     "output_type": "stream",
     "text": [
      "\u001b[33mWARNING: Running pip as the 'root' user can result in broken permissions and conflicting behaviour with the system package manager. It is recommended to use a virtual environment instead: https://pip.pypa.io/warnings/venv\u001b[0m\u001b[33m\n",
      "\u001b[0m"
     ]
    }
   ],
   "source": [
    "# !pip install --upgrade pip --quiet\n",
    "# !pip install numpy --quiet\n",
    "# !pip install pandas --quiet\n",
    "# !pip install matplotlib --quiet\n",
    "# !pip install scipy --quiet\n",
    "# !pip install sortedcontainers --quiet"
   ]
  },
  {
   "cell_type": "code",
   "execution_count": 5,
   "metadata": {},
   "outputs": [],
   "source": [
    "import numpy as np\n",
    "import pandas as pd\n",
    "import matplotlib.pyplot as plt\n",
    "import scipy.sparse as sparse\n",
    "from sortedcontainers import SortedList\n",
    "import heapq\n",
    "import timeit"
   ]
  },
  {
   "cell_type": "code",
   "execution_count": 42,
   "metadata": {},
   "outputs": [],
   "source": [
    "class topk_sorted_list:\n",
    "    def __init__(self, size):\n",
    "        self.size = size\n",
    "        self.container = SortedList()\n",
    "    def add(self, x):\n",
    "        if self.container.__len__() < self.size:\n",
    "            self.container.add(x)\n",
    "        elif x > self.container[0]:\n",
    "                self.container.add(x)\n",
    "                self.container.pop(0)\n",
    "    def get_values(self):\n",
    "        return [(x[2],x[0]*x[1]) for x in self.container]"
   ]
  },
  {
   "cell_type": "code",
   "execution_count": 68,
   "metadata": {},
   "outputs": [],
   "source": [
    "def method_1(limit, loop):\n",
    "    obj = topk_sorted_list(limit)\n",
    "    for i in range(loop):\n",
    "        r = 2*np.random.random()-1\n",
    "        s = 1 if r>=0 else -1\n",
    "        x = (abs(r),s,i)\n",
    "        obj.add(x)\n",
    "    return obj.get_values()"
   ]
  },
  {
   "cell_type": "code",
   "execution_count": 70,
   "metadata": {},
   "outputs": [],
   "source": [
    "d = method_1(25,100000)"
   ]
  },
  {
   "cell_type": "code",
   "execution_count": 71,
   "metadata": {},
   "outputs": [
    {
     "data": {
      "text/plain": [
       "12.281736201999593"
      ]
     },
     "execution_count": 71,
     "metadata": {},
     "output_type": "execute_result"
    }
   ],
   "source": [
    "timeit.timeit(lambda : method_1(25,100000), number=100)"
   ]
  },
  {
   "cell_type": "code",
   "execution_count": 72,
   "metadata": {},
   "outputs": [
    {
     "data": {
      "text/plain": [
       "12.083175530000517"
      ]
     },
     "execution_count": 72,
     "metadata": {},
     "output_type": "execute_result"
    }
   ],
   "source": [
    "timeit.timeit(lambda : method_1(5,100000), number=100)"
   ]
  },
  {
   "cell_type": "code",
   "execution_count": 84,
   "metadata": {},
   "outputs": [
    {
     "data": {
      "text/plain": [
       "113.16434800800016"
      ]
     },
     "execution_count": 84,
     "metadata": {},
     "output_type": "execute_result"
    }
   ],
   "source": [
    "timeit.timeit(lambda : method_1(25,10000), number=10000)"
   ]
  },
  {
   "cell_type": "code",
   "execution_count": 40,
   "metadata": {},
   "outputs": [
    {
     "data": {
      "text/plain": [
       "[(0.38, 1, 2), (0.45, -1, 3), (0.62, 1, 0), (0.75, -1, 1), (0.51, -1, 4)]"
      ]
     },
     "execution_count": 40,
     "metadata": {},
     "output_type": "execute_result"
    }
   ],
   "source": [
    "cont = []\n",
    "heapq.heappush(cont, (0.62, 1, 0))\n",
    "heapq.heappush(cont, (0.75, -1, 1))\n",
    "heapq.heappush(cont, (0.38, 1, 2))\n",
    "heapq.heappush(cont, (0.45, -1, 3))\n",
    "heapq.heappush(cont, (0.51, -1, 4))\n",
    "cont"
   ]
  },
  {
   "cell_type": "code",
   "execution_count": 41,
   "metadata": {
    "collapsed": true,
    "jupyter": {
     "outputs_hidden": true
    }
   },
   "outputs": [
    {
     "name": "stdout",
     "output_type": "stream",
     "text": [
      "(0.8304928466825416, -1, 5)\n",
      "[(0.45, -1, 3), (0.51, -1, 4), (0.62, 1, 0), (0.75, -1, 1), (0.8304928466825416, -1, 5)]\n",
      "(0.4717459320194799, -1, 6)\n",
      "[(0.4717459320194799, -1, 6), (0.51, -1, 4), (0.62, 1, 0), (0.75, -1, 1), (0.8304928466825416, -1, 5)]\n",
      "(0.6325484426271519, -1, 7)\n",
      "[(0.51, -1, 4), (0.62, 1, 0), (0.6325484426271519, -1, 7), (0.75, -1, 1), (0.8304928466825416, -1, 5)]\n",
      "(0.3302056338150132, 1, 8)\n",
      "[(0.51, -1, 4), (0.62, 1, 0), (0.6325484426271519, -1, 7), (0.75, -1, 1), (0.8304928466825416, -1, 5)]\n",
      "(0.986321727355524, 1, 9)\n",
      "[(0.62, 1, 0), (0.6325484426271519, -1, 7), (0.75, -1, 1), (0.8304928466825416, -1, 5), (0.986321727355524, 1, 9)]\n"
     ]
    }
   ],
   "source": [
    "for i in range(5,10):\n",
    "    r = 2*np.random.random()-1\n",
    "    s = 1 if r>=0 else -1\n",
    "    x = (abs(r),s,i)\n",
    "    print(x);\n",
    "    if x > cont[0]:\n",
    "        heapq.heappushpop(cont, x)\n",
    "    print(sorted(cont))"
   ]
  },
  {
   "cell_type": "code",
   "execution_count": 63,
   "metadata": {},
   "outputs": [],
   "source": [
    "class topk_heap:\n",
    "    def __init__(self, size):\n",
    "        self.size = size\n",
    "        self.container = []\n",
    "    def add(self, x):\n",
    "        if len(self.container) < self.size:\n",
    "            heapq.heappush(self.container, x)\n",
    "        elif x > self.container[0]:\n",
    "            heapq.heappushpop(self.container, x)\n",
    "    def get_values(self):\n",
    "        return [(x[2],x[0]*x[1]) for x in sorted(self.container)]"
   ]
  },
  {
   "cell_type": "code",
   "execution_count": 61,
   "metadata": {},
   "outputs": [],
   "source": [
    "def method_2(limit, loop):\n",
    "    obj = topk_heap(limit)\n",
    "    for i in range(loop):\n",
    "        r = 2*np.random.random()-1\n",
    "        s = 1 if r>=0 else -1\n",
    "        x = (abs(r),s,i)\n",
    "        obj.add(x)\n",
    "    return obj.get_values()"
   ]
  },
  {
   "cell_type": "code",
   "execution_count": 76,
   "metadata": {},
   "outputs": [],
   "source": [
    "d= method_3(25,100000)"
   ]
  },
  {
   "cell_type": "code",
   "execution_count": 77,
   "metadata": {},
   "outputs": [
    {
     "data": {
      "text/plain": [
       "8.118366806000267"
      ]
     },
     "execution_count": 77,
     "metadata": {},
     "output_type": "execute_result"
    }
   ],
   "source": [
    "timeit.timeit(lambda : method_2(25,100000), number=100)"
   ]
  },
  {
   "cell_type": "code",
   "execution_count": 79,
   "metadata": {},
   "outputs": [
    {
     "data": {
      "text/plain": [
       "77.96407348000139"
      ]
     },
     "execution_count": 79,
     "metadata": {},
     "output_type": "execute_result"
    }
   ],
   "source": [
    "timeit.timeit(lambda : method_2(25,10000), number=10000)"
   ]
  },
  {
   "cell_type": "code",
   "execution_count": null,
   "metadata": {},
   "outputs": [],
   "source": []
  }
 ],
 "metadata": {
  "kernelspec": {
   "display_name": "Python 3 (Base Python 3.0)",
   "language": "python",
   "name": "python3__SAGEMAKER_INTERNAL__arn:aws:sagemaker:us-east-2:429704687514:image/sagemaker-base-python-310-v1"
  },
  "language_info": {
   "codemirror_mode": {
    "name": "ipython",
    "version": 3
   },
   "file_extension": ".py",
   "mimetype": "text/x-python",
   "name": "python",
   "nbconvert_exporter": "python",
   "pygments_lexer": "ipython3",
   "version": "3.10.8"
  }
 },
 "nbformat": 4,
 "nbformat_minor": 4
}
