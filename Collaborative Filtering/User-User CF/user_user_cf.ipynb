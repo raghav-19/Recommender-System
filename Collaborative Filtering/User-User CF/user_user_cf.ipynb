{
 "cells": [
  {
   "cell_type": "code",
   "execution_count": 4,
   "metadata": {},
   "outputs": [],
   "source": [
    "# !pip install --upgrade pip --quiet\n",
    "# !pip install numpy --quiet\n",
    "# !pip install pandas --quiet\n",
    "# !pip install matplotlib --quiet\n",
    "# !pip install scipy --quiet\n",
    "# !pip install scikit-learn --quiet\n",
    "# !pip install torch --quiet"
   ]
  },
  {
   "cell_type": "code",
   "execution_count": 5,
   "metadata": {},
   "outputs": [],
   "source": [
    "import numpy as np\n",
    "import pandas as pd\n",
    "import matplotlib.pyplot as plt\n",
    "import scipy.sparse as sparse\n",
    "from sklearn.model_selection import train_test_split\n",
    "import multiprocessing\n",
    "from multiprocessing import Pool\n",
    "from joblib import Parallel, delayed\n",
    "from ast import literal_eval\n",
    "import heapq\n",
    "import timeit\n",
    "import time\n",
    "import torch"
   ]
  },
  {
   "cell_type": "code",
   "execution_count": 5,
   "metadata": {},
   "outputs": [],
   "source": [
    "# !wget -nc https://files.grouplens.org/datasets/movielens/ml-20m.zip\n",
    "# !unzip -n ml-20m.zip"
   ]
  },
  {
   "cell_type": "code",
   "execution_count": 10,
   "metadata": {},
   "outputs": [
    {
     "data": {
      "text/html": [
       "<div>\n",
       "<style scoped>\n",
       "    .dataframe tbody tr th:only-of-type {\n",
       "        vertical-align: middle;\n",
       "    }\n",
       "\n",
       "    .dataframe tbody tr th {\n",
       "        vertical-align: top;\n",
       "    }\n",
       "\n",
       "    .dataframe thead th {\n",
       "        text-align: right;\n",
       "    }\n",
       "</style>\n",
       "<table border=\"1\" class=\"dataframe\">\n",
       "  <thead>\n",
       "    <tr style=\"text-align: right;\">\n",
       "      <th></th>\n",
       "      <th>userId</th>\n",
       "      <th>movieId</th>\n",
       "      <th>rating</th>\n",
       "    </tr>\n",
       "  </thead>\n",
       "  <tbody>\n",
       "    <tr>\n",
       "      <th>0</th>\n",
       "      <td>1</td>\n",
       "      <td>2</td>\n",
       "      <td>3.5</td>\n",
       "    </tr>\n",
       "    <tr>\n",
       "      <th>1</th>\n",
       "      <td>1</td>\n",
       "      <td>29</td>\n",
       "      <td>3.5</td>\n",
       "    </tr>\n",
       "    <tr>\n",
       "      <th>2</th>\n",
       "      <td>1</td>\n",
       "      <td>32</td>\n",
       "      <td>3.5</td>\n",
       "    </tr>\n",
       "    <tr>\n",
       "      <th>3</th>\n",
       "      <td>1</td>\n",
       "      <td>47</td>\n",
       "      <td>3.5</td>\n",
       "    </tr>\n",
       "    <tr>\n",
       "      <th>4</th>\n",
       "      <td>1</td>\n",
       "      <td>50</td>\n",
       "      <td>3.5</td>\n",
       "    </tr>\n",
       "  </tbody>\n",
       "</table>\n",
       "</div>"
      ],
      "text/plain": [
       "   userId  movieId  rating\n",
       "0       1        2     3.5\n",
       "1       1       29     3.5\n",
       "2       1       32     3.5\n",
       "3       1       47     3.5\n",
       "4       1       50     3.5"
      ]
     },
     "execution_count": 10,
     "metadata": {},
     "output_type": "execute_result"
    }
   ],
   "source": [
    "df = pd.read_csv('../ml-20m/ratings.csv')\n",
    "df.drop(columns=['timestamp'],inplace=True)\n",
    "df_train, df_test = train_test_split(df, test_size=0.2, random_state=100)\n",
    "df.head()"
   ]
  },
  {
   "cell_type": "code",
   "execution_count": 7,
   "metadata": {},
   "outputs": [],
   "source": [
    "df_user = df_train.groupby('userId').agg(\n",
    "    user_count = ('rating', 'count'),\n",
    "    user_mean = ('rating', 'mean')\n",
    ").reset_index()\n",
    "df_item = df_train.groupby('movieId').agg(\n",
    "    item_count = ('rating', 'count'),\n",
    "    item_mean = ('rating', 'mean')\n",
    ").reset_index()"
   ]
  },
  {
   "cell_type": "code",
   "execution_count": 8,
   "metadata": {},
   "outputs": [],
   "source": [
    "df_regular_user = df_user[df_user['user_count']>=50].reset_index(drop=True)\n",
    "df_common_movie = df_item[df_item['item_count']>=100].reset_index(drop=True)\n",
    "user_dict = dict(zip(df_regular_user.userId, df_regular_user.index))\n",
    "user_list = list(df_regular_user['userId'])\n",
    "user_bias = list(df_regular_user['user_mean'])\n",
    "movie_dict = dict(zip(df_common_movie.movieId, df_common_movie.index))\n",
    "movie_list = list(df_common_movie['movieId'])\n",
    "n_user, n_movie = len(user_list), len(movie_list)"
   ]
  },
  {
   "cell_type": "code",
   "execution_count": 9,
   "metadata": {},
   "outputs": [],
   "source": [
    "df_train = pd.merge(df_train, df_common_movie, how='inner', on='movieId')\n",
    "df_train = pd.merge(df_train, df_regular_user, how='inner', on='userId')\n",
    "df_train['rating'] = df_train['rating']-df_train['user_mean']\n",
    "df_train['user_index'] = df_train['userId'].map(user_dict).astype('int64')\n",
    "df_train['movie_index'] = df_train['movieId'].map(movie_dict).astype('int64')"
   ]
  },
  {
   "cell_type": "code",
   "execution_count": 10,
   "metadata": {},
   "outputs": [],
   "source": [
    "data = sparse.csr_matrix((df_train.rating, (df_train.user_index, df_train.movie_index)), shape=(n_user, n_movie))\n",
    "rating_dict = dict(zip(list(zip(df_train.user_index, df_train.movie_index)), df_train.rating))"
   ]
  },
  {
   "cell_type": "code",
   "execution_count": 11,
   "metadata": {},
   "outputs": [
    {
     "data": {
      "text/plain": [
       "(73589, 7983)"
      ]
     },
     "execution_count": 11,
     "metadata": {},
     "output_type": "execute_result"
    }
   ],
   "source": [
    "n_user, n_movie"
   ]
  },
  {
   "cell_type": "code",
   "execution_count": 86,
   "metadata": {},
   "outputs": [],
   "source": [
    "class topk_heap:\n",
    "    def __init__(self, size):\n",
    "        self.size = size\n",
    "        self.container = []\n",
    "    def add(self, x):\n",
    "        if len(self.container) < self.size:\n",
    "            heapq.heappush(self.container, x)\n",
    "        elif x > self.container[0]:\n",
    "            heapq.heappushpop(self.container, x)\n",
    "    def get_users(self):\n",
    "        return [(x[2],x[0]*x[1]) for x in sorted(self.container)]\n",
    "    def get_movies(self):\n",
    "        return [x[1] for x in sorted(self.container, reverse=True)]"
   ]
  },
  {
   "cell_type": "code",
   "execution_count": 64,
   "metadata": {},
   "outputs": [],
   "source": [
    "def get_similar_users(u):\n",
    "    obj = topk_heap(limit)\n",
    "    user_row = data.getrow(u).indices\n",
    "    user_val = data.getrow(u).data\n",
    "    user_nnz = data.getrow(u).nnz\n",
    "    user_arr = np.arange(n_user)\n",
    "    np.random.shuffle(user_arr)\n",
    "    for v in user_arr[0:2500]:\n",
    "        if u==v:\n",
    "            continue\n",
    "        row = data.getrow(v).indices\n",
    "        val = data.getrow(v).data\n",
    "        nnz = data.getrow(v).nnz\n",
    "        i, j = 0, 0\n",
    "        a2, b2, ab, c = 0, 0, 0, 0\n",
    "        while i<user_nnz and j<nnz:\n",
    "            if user_row[i]==row[j]:\n",
    "                a, b = user_val[i], val[j]\n",
    "                a2=a2+(a*a); b2=b2+(b*b); ab=ab+(a*b); c=c+1;\n",
    "                i=i+1; j=j+1;\n",
    "            elif user_row[i]<row[j]:\n",
    "                i=i+1;\n",
    "            elif user_row[i]>row[j]:\n",
    "                j=j+1;\n",
    "        if c>=10 and a2>0 and b2>0:\n",
    "            x = ab/np.sqrt(a2*b2)\n",
    "            s = 1 if x>=0 else -1\n",
    "            obj.add((abs(x), s, v))\n",
    "    return (u,obj.get_users())"
   ]
  },
  {
   "cell_type": "code",
   "execution_count": 38,
   "metadata": {},
   "outputs": [
    {
     "name": "stdout",
     "output_type": "stream",
     "text": [
      "CPU times: user 643 ms, sys: 12.2 ms, total: 655 ms\n",
      "Wall time: 642 ms\n"
     ]
    }
   ],
   "source": [
    "%%time\n",
    "limit = 25\n",
    "n = 1\n",
    "for u in range(n):\n",
    "    get_similar_users(u)"
   ]
  },
  {
   "cell_type": "code",
   "execution_count": 49,
   "metadata": {},
   "outputs": [
    {
     "name": "stdout",
     "output_type": "stream",
     "text": [
      "CPU times: user 17.8 s, sys: 4.2 s, total: 22 s\n",
      "Wall time: 1h 38min 23s\n"
     ]
    }
   ],
   "source": [
    "%%time\n",
    "limit = 25\n",
    "n = n_user\n",
    "if __name__ == '__main__':\n",
    "    with Pool() as pool:\n",
    "        similar_user = dict(pool.imap_unordered(get_similar_users, range(n)))"
   ]
  },
  {
   "cell_type": "code",
   "execution_count": 65,
   "metadata": {},
   "outputs": [],
   "source": [
    "df_similar_user = pd.DataFrame(list(similar_user.items()), columns=['user', 'similar_user'])\n",
    "df_similar_user = df_similar_user.sort_values('user').reset_index(drop=True)\n",
    "df_similar_user.to_csv('similar_user.csv', index=False)"
   ]
  },
  {
   "cell_type": "code",
   "execution_count": 30,
   "metadata": {},
   "outputs": [],
   "source": [
    "df_similar_user = pd.read_csv('similar_user.csv')\n",
    "df_similar_user['similar_user'] = df_similar_user['similar_user'].apply(literal_eval)\n",
    "similar_user = df_similar_user.iloc[:,1].values"
   ]
  },
  {
   "cell_type": "code",
   "execution_count": 29,
   "metadata": {},
   "outputs": [
    {
     "data": {
      "text/plain": [
       "-0.23880597014925353"
      ]
     },
     "execution_count": 29,
     "metadata": {},
     "output_type": "execute_result"
    }
   ],
   "source": [
    "rating_dict[(0,47)]"
   ]
  },
  {
   "cell_type": "code",
   "execution_count": 47,
   "metadata": {},
   "outputs": [
    {
     "data": {
      "text/plain": [
       "3.7388059701492535"
      ]
     },
     "execution_count": 47,
     "metadata": {},
     "output_type": "execute_result"
    }
   ],
   "source": [
    "user_bias[0]"
   ]
  },
  {
   "cell_type": "code",
   "execution_count": 45,
   "metadata": {},
   "outputs": [],
   "source": [
    "dict_user_bias = dict(zip(np.arange(n_user), user_bias))"
   ]
  },
  {
   "cell_type": "code",
   "execution_count": 46,
   "metadata": {},
   "outputs": [
    {
     "data": {
      "text/plain": [
       "3.7388059701492535"
      ]
     },
     "execution_count": 46,
     "metadata": {},
     "output_type": "execute_result"
    }
   ],
   "source": [
    "dict_user_bias[0]"
   ]
  },
  {
   "cell_type": "code",
   "execution_count": null,
   "metadata": {},
   "outputs": [],
   "source": [
    "%%time\n",
    "for _ in range(1000000):\n",
    "    x = np.random.randint(n_user)\n",
    "    "
   ]
  },
  {
   "cell_type": "code",
   "execution_count": 112,
   "metadata": {},
   "outputs": [],
   "source": [
    "def predict(u, m):#predict rating by user u to movie m\n",
    "    num, den, cnt = 0, 0, 0\n",
    "    for v, cor in similar_user[u]:\n",
    "        try:\n",
    "            num += cor*rating_dict[(v,m)]\n",
    "            den += abs(cor); cnt += 1;\n",
    "        except KeyError:\n",
    "            continue\n",
    "    if cnt<3:\n",
    "        return np.nan\n",
    "    return user_bias[u] + (num/den)"
   ]
  },
  {
   "cell_type": "code",
   "execution_count": 81,
   "metadata": {},
   "outputs": [],
   "source": [
    "def cf_recommendation(u):\n",
    "    obj = topk_heap(25)\n",
    "    for m in range(n_movie):\n",
    "        try:\n",
    "            x = rating_dict[(u,m)]\n",
    "        except KeyError:\n",
    "            obj.add((predict(u,m), m))\n",
    "    return obj.get_movies()"
   ]
  },
  {
   "cell_type": "code",
   "execution_count": 95,
   "metadata": {},
   "outputs": [],
   "source": [
    "def raw_predict(u, m):\n",
    "    try:\n",
    "        u = user_dict[u]\n",
    "    except :\n",
    "        return np.nan\n",
    "    try:\n",
    "        m = movie_dict[m]\n",
    "    except :\n",
    "        return np.nan\n",
    "    return predict(u,m)"
   ]
  },
  {
   "cell_type": "code",
   "execution_count": 117,
   "metadata": {},
   "outputs": [
    {
     "data": {
      "text/plain": [
       "nan"
      ]
     },
     "execution_count": 117,
     "metadata": {},
     "output_type": "execute_result"
    }
   ],
   "source": [
    "raw_predict(1,0)"
   ]
  },
  {
   "cell_type": "code",
   "execution_count": 119,
   "metadata": {},
   "outputs": [
    {
     "name": "stdout",
     "output_type": "stream",
     "text": [
      "CPU times: user 4min 31s, sys: 1.51 s, total: 4min 32s\n",
      "Wall time: 4min 32s\n"
     ]
    }
   ],
   "source": [
    "%%time\n",
    "df_train['pred_rating'] = df_train.apply(lambda x : raw_predict(x['userId'], x['movieId']), axis=1)"
   ]
  },
  {
   "cell_type": "code",
   "execution_count": null,
   "metadata": {},
   "outputs": [],
   "source": []
  }
 ],
 "metadata": {
  "instance_type": "ml.m5.4xlarge",
  "kernelspec": {
   "display_name": "Python 3 (Base Python)",
   "language": "python",
   "name": "python3__SAGEMAKER_INTERNAL__arn:aws:sagemaker:us-east-2:429704687514:image/python-3.6"
  },
  "language_info": {
   "codemirror_mode": {
    "name": "ipython",
    "version": 3
   },
   "file_extension": ".py",
   "mimetype": "text/x-python",
   "name": "python",
   "nbconvert_exporter": "python",
   "pygments_lexer": "ipython3",
   "version": "3.6.13"
  }
 },
 "nbformat": 4,
 "nbformat_minor": 4
}
