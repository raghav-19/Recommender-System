{
 "cells": [
  {
   "cell_type": "code",
   "execution_count": 2,
   "metadata": {},
   "outputs": [],
   "source": [
    "#videos_data- list of dict, where each dict store video_id, views, complete_views"
   ]
  },
  {
   "cell_type": "code",
   "execution_count": 4,
   "metadata": {},
   "outputs": [],
   "source": [
    "import numpy as np\n",
    "import pandas as pd\n",
    "import matplotlib.pyplot as plt\n",
    "from scipy.stats import beta\n",
    "import requests"
   ]
  },
  {
   "cell_type": "code",
   "execution_count": 4,
   "metadata": {},
   "outputs": [],
   "source": [
    "def get_ranking(video_data, factor):\n",
    "    rand_var = []\n",
    "    for video in video_data:\n",
    "        pos_cnt = video['complete_views']\n",
    "        neg_cnt = video['views'] - video['complete_views']\n",
    "        rand_var.append((video['video_id'], np.random.beta(1+factor*pos_cnt, 1+factor*neg_cnt)))\n",
    "    output = sorted(rand_var, key=lambda x : x[1], reverse=True)\n",
    "    return [x[0] for x in output]"
   ]
  },
  {
   "cell_type": "code",
   "execution_count": 11,
   "metadata": {},
   "outputs": [
    {
     "data": {
      "text/plain": [
       "[<matplotlib.lines.Line2D at 0x7ff6832e36d0>]"
      ]
     },
     "execution_count": 11,
     "metadata": {},
     "output_type": "execute_result"
    },
    {
     "data": {
      "image/png": "[encoded data removed]",
      "text/plain": [
       "<Figure size 640x480 with 1 Axes>"
      ]
     },
     "metadata": {},
     "output_type": "display_data"
    }
   ],
   "source": [
    "x_axis = np.linspace(0,1,100)\n",
    "plt.plot(x_axis, beta.pdf(x_axis, 3, 1))"
   ]
  },
  {
   "cell_type": "code",
   "execution_count": 5,
   "metadata": {},
   "outputs": [
    {
     "data": {
      "text/plain": [
       "['a1', 'a4', 'a3', 'a2']"
      ]
     },
     "execution_count": 5,
     "metadata": {},
     "output_type": "execute_result"
    }
   ],
   "source": [
    "video_data = [\n",
    "    {\n",
    "        'video_id' : 'a1',\n",
    "        'views' : 465,\n",
    "        'complete_views' : 400\n",
    "    },\n",
    "    {\n",
    "        'video_id' : 'a2',\n",
    "        'views' : 465,\n",
    "        'complete_views' : 200\n",
    "    },\n",
    "    {\n",
    "        'video_id' : 'a3',\n",
    "        'views' : 465,\n",
    "        'complete_views' : 300\n",
    "    },\n",
    "    {\n",
    "        'video_id' : 'a4',\n",
    "        'views' : 46,\n",
    "        'complete_views' : 35\n",
    "    },\n",
    "]\n",
    "get_ranking(video_data, 0.1)"
   ]
  },
  {
   "cell_type": "code",
   "execution_count": 8,
   "metadata": {},
   "outputs": [],
   "source": [
    "video_count = 1000\n",
    "video_data = []\n",
    "for i in range(video_count):\n",
    "    video = dict()\n",
    "    video['video_id'] = 'v'+str(i)\n",
    "    video['views'] = np.random.randint(1000000)+1\n",
    "    video['complete_views'] = np.random.randint(video['views'])\n",
    "    video_data.append(video)"
   ]
  },
  {
   "cell_type": "code",
   "execution_count": 12,
   "metadata": {},
   "outputs": [
    {
     "name": "stdout",
     "output_type": "stream",
     "text": [
      "CPU times: user 1.71 ms, sys: 0 ns, total: 1.71 ms\n",
      "Wall time: 1.72 ms\n"
     ]
    }
   ],
   "source": [
    "%%time\n",
    "order = get_ranking(video_data, 0.1)\n",
    "send_data = {'initialScore' : 0,\n",
    "             'list' : order}"
   ]
  },
  {
   "cell_type": "code",
   "execution_count": null,
   "metadata": {},
   "outputs": [],
   "source": []
  }
 ],
 "metadata": {
  "instance_type": "ml.t3.medium",
  "kernelspec": {
   "display_name": "Python 3 (ipykernel)",
   "language": "python",
   "name": "python3"
  },
  "language_info": {
   "codemirror_mode": {
    "name": "ipython",
    "version": 3
   },
   "file_extension": ".py",
   "mimetype": "text/x-python",
   "name": "python",
   "nbconvert_exporter": "python",
   "pygments_lexer": "ipython3",
   "version": "3.10.10"
  }
 },
 "nbformat": 4,
 "nbformat_minor": 4
}
