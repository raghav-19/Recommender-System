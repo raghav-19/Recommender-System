{
 "cells": [
  {
   "cell_type": "code",
   "execution_count": 9,
   "id": "59c87928-4ab0-407f-94af-c562cfb47f91",
   "metadata": {
    "tags": []
   },
   "outputs": [],
   "source": [
    "import numpy as np\n",
    "import pandas as pd\n",
    "import requests\n",
    "import json\n",
    "import pickle\n",
    "import math"
   ]
  },
  {
   "cell_type": "code",
   "execution_count": null,
   "id": "6fd5cb56-9213-4109-b791-cb6ca846e410",
   "metadata": {},
   "outputs": [],
   "source": [
    "configs = pickle.load(open('productionalized/config.pkl', 'rb'))\n",
    "complete_view_ratio = configs['complete_view_ratio']\n",
    "view_threshold = configs['view_threshold']\n",
    "factor = configs['factor']\n",
    "initial_bias = configs['initial_bias']"
   ]
  },
  {
   "cell_type": "code",
   "execution_count": 11,
   "id": "65c09dd6-1853-48fa-8f76-4dd514d79d3c",
   "metadata": {
    "tags": []
   },
   "outputs": [
    {
     "data": {
      "text/plain": [
       "191515"
      ]
     },
     "execution_count": 11,
     "metadata": {},
     "output_type": "execute_result"
    }
   ],
   "source": [
    "sql_query = \"select studentid, count(*) from reels.pinot_view where watchDuration >= \" + str(view_threshold) + \" group by studentId having count(*)>=10 limit 10000000\"\n",
    "students = prod_query(sql_query)\n",
    "students = students['studentid'].values\n",
    "len(students)"
   ]
  },
  {
   "cell_type": "code",
   "execution_count": 12,
   "id": "18bb647b-8ece-462e-83d1-0f2b0359fc70",
   "metadata": {
    "tags": []
   },
   "outputs": [],
   "source": [
    "idcg = [1]\n",
    "till_now = 0\n",
    "for i in range(1, 1001):\n",
    "    till_now += (1/math.log2(i+1))\n",
    "    idcg.append(till_now)"
   ]
  },
  {
   "cell_type": "code",
   "execution_count": 13,
   "id": "e4d0a76f-27ec-4296-aa54-9cacec528815",
   "metadata": {
    "tags": []
   },
   "outputs": [],
   "source": [
    "def get_ndcg(ar):\n",
    "    n = len(ar)\n",
    "    dcg = 0\n",
    "    for i in range(n):\n",
    "        if ar[i]==True:\n",
    "            dcg += (1/math.log2(i+2))\n",
    "    return np.round(dcg/idcg[sum(ar)],4)"
   ]
  },
  {
   "cell_type": "code",
   "execution_count": 19,
   "id": "0636c974-465c-4fc3-a070-2891381ced87",
   "metadata": {
    "tags": []
   },
   "outputs": [
    {
     "ename": "TypeError",
     "evalue": "unsupported operand type(s) for -: 'str' and 'str'",
     "output_type": "error",
     "traceback": [
      "\u001b[0;31m---------------------------------------------------------------------------\u001b[0m",
      "\u001b[0;31mTypeError\u001b[0m                                 Traceback (most recent call last)",
      "Cell \u001b[0;32mIn[19], line 10\u001b[0m\n\u001b[1;32m      8\u001b[0m i, j, n \u001b[38;5;241m=\u001b[39m \u001b[38;5;241m0\u001b[39m, \u001b[38;5;241m0\u001b[39m, \u001b[38;5;28mlen\u001b[39m(time_list)\n\u001b[1;32m      9\u001b[0m \u001b[38;5;28;01mwhile\u001b[39;00m i\u001b[38;5;241m<\u001b[39mn:\n\u001b[0;32m---> 10\u001b[0m     \u001b[38;5;28;01mwhile\u001b[39;00m j\u001b[38;5;241m<\u001b[39mn \u001b[38;5;129;01mand\u001b[39;00m \u001b[43mtime_list\u001b[49m\u001b[43m[\u001b[49m\u001b[43mj\u001b[49m\u001b[43m]\u001b[49m\u001b[38;5;241;43m-\u001b[39;49m\u001b[43mtime_list\u001b[49m\u001b[43m[\u001b[49m\u001b[43mi\u001b[49m\u001b[43m]\u001b[49m\u001b[38;5;241m<\u001b[39m\u001b[38;5;241m600000\u001b[39m:\n\u001b[1;32m     11\u001b[0m         j\u001b[38;5;241m+\u001b[39m\u001b[38;5;241m=\u001b[39m\u001b[38;5;241m1\u001b[39m\n\u001b[1;32m     12\u001b[0m     scores\u001b[38;5;241m.\u001b[39mappend([sid, time_list[i], j\u001b[38;5;241m-\u001b[39mi, \u001b[38;5;28msum\u001b[39m(view_list[i:j]), get_ndcg(view_list[i:j])])\n",
      "\u001b[0;31mTypeError\u001b[0m: unsupported operand type(s) for -: 'str' and 'str'"
     ]
    }
   ],
   "source": [
    "scores = []\n",
    "for sid in students[0:2]:\n",
    "    sql_query = \"select created_at, reelid, watchduration/videoduration>=\" + str(complete_view_ratio) + \" as completed from reels.pinot_view where studentId='\"+str(sid)+\"' order by created_at limit 10000\"\n",
    "    df = query_results(sql_query)\n",
    "    df = df.drop_duplicates(subset=['reelid']).reset_index(drop=True)\n",
    "    time_list = list(df['created_at'])\n",
    "    view_list = list(df['completed'])\n",
    "    i, j, n = 0, 0, len(time_list)\n",
    "    while i<n:\n",
    "        while j<n and time_list[j]-time_list[i]<600000:\n",
    "            j+=1\n",
    "        scores.append([sid, time_list[i], j-i, sum(view_list[i:j]), get_ndcg(view_list[i:j])])\n",
    "        i=j\n",
    "df_scores = pd.DataFrame(scores, columns=['studentid', 'created_at', 'session_count', 'session_complete_count', 'ndcg'])\n",
    "# df_scores.to_csv('reels_scores.csv', index=False)"
   ]
  },
  {
   "cell_type": "code",
   "execution_count": null,
   "id": "b87dafa5-a10d-4e44-a457-c852bb96b09b",
   "metadata": {},
   "outputs": [],
   "source": []
  }
 ],
 "metadata": {
  "kernelspec": {
   "display_name": "Python 3 (ipykernel)",
   "language": "python",
   "name": "python3"
  },
  "language_info": {
   "codemirror_mode": {
    "name": "ipython",
    "version": 3
   },
   "file_extension": ".py",
   "mimetype": "text/x-python",
   "name": "python",
   "nbconvert_exporter": "python",
   "pygments_lexer": "ipython3",
   "version": "3.10.10"
  }
 },
 "nbformat": 4,
 "nbformat_minor": 5
}
